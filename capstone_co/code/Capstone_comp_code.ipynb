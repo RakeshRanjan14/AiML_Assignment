{
 "cells": [
  {
   "cell_type": "code",
   "execution_count": 4,
   "metadata": {},
   "outputs": [
    {
     "name": "stderr",
     "output_type": "stream",
     "text": [
      "/Users/admin/opt/anaconda3/lib/python3.9/site-packages/scipy/__init__.py:146: UserWarning: A NumPy version >=1.16.5 and <1.23.0 is required for this version of SciPy (detected version 1.26.4\n",
      "  warnings.warn(f\"A NumPy version >={np_minversion} and <{np_maxversion}\"\n"
     ]
    }
   ],
   "source": [
    "import numpy as np\n",
    "import matplotlib.pyplot as plt\n",
    "from sklearn.gaussian_process import GaussianProcessRegressor"
   ]
  },
  {
   "cell_type": "markdown",
   "metadata": {},
   "source": [
    "# Capstone Competition "
   ]
  },
  {
   "cell_type": "markdown",
   "metadata": {},
   "source": [
    "We begin this guide by downloading the data:"
   ]
  },
  {
   "cell_type": "code",
   "execution_count": 277,
   "metadata": {},
   "outputs": [],
   "source": [
    "X_new = np.load('initial_data2/function_1/initial_inputs.npy')\n",
    "Y_new = np.load('initial_data2/function_1/initial_outputs.npy')"
   ]
  },
  {
   "cell_type": "code",
   "execution_count": 278,
   "metadata": {
    "scrolled": true
   },
   "outputs": [
    {
     "data": {
      "text/plain": [
       "array([[0.90048221, 0.46996691],\n",
       "       [0.86243528, 0.4352856 ],\n",
       "       [0.09311333, 0.31520745],\n",
       "       [0.48975434, 0.16844847],\n",
       "       [0.90132685, 0.67366454],\n",
       "       [0.32101719, 0.63497061],\n",
       "       [0.32044659, 0.42030664],\n",
       "       [0.63861791, 0.73839723],\n",
       "       [0.59648578, 0.61407967],\n",
       "       [0.48366726, 0.31942835],\n",
       "       [0.96227495, 0.90831843],\n",
       "       [0.46937596, 0.55313941],\n",
       "       [0.06938944, 0.62671938],\n",
       "       [0.59640851, 0.81673367],\n",
       "       [0.1409109 , 0.3179331 ],\n",
       "       [0.58653471, 0.20732755],\n",
       "       [0.61533925, 0.18320905],\n",
       "       [0.9068703 , 0.76151747],\n",
       "       [0.58038966, 0.57243686],\n",
       "       [0.55684911, 0.58265192]])"
      ]
     },
     "execution_count": 278,
     "metadata": {},
     "output_type": "execute_result"
    }
   ],
   "source": [
    "X_new "
   ]
  },
  {
   "cell_type": "code",
   "execution_count": 279,
   "metadata": {},
   "outputs": [
    {
     "data": {
      "text/plain": [
       "array([-3.23831206e-070, -2.66554974e-065, -6.53456227e-084,\n",
       "        1.33208482e-048,  2.94212475e-055,  8.33516100e-040,\n",
       "       -5.03981978e-008, -2.01007653e-009,  6.59147585e-002,\n",
       "        5.59549084e-011,  4.50954445e-133, -4.05280070e-015,\n",
       "       -7.40958578e-118,  8.49132032e-027, -8.80550875e-064,\n",
       "       -9.89621108e-052, -2.68384158e-067,  1.19343278e-067,\n",
       "        6.90381175e-005,  4.65270195e-006])"
      ]
     },
     "execution_count": 279,
     "metadata": {},
     "output_type": "execute_result"
    }
   ],
   "source": [
    "Y_new"
   ]
  },
  {
   "cell_type": "code",
   "execution_count": 164,
   "metadata": {},
   "outputs": [],
   "source": [
    "X = np.load('initial_data/function_1/initial_inputs.npy')\n",
    "Y = np.load('initial_data/function_1/initial_outputs.npy')"
   ]
  },
  {
   "cell_type": "code",
   "execution_count": 187,
   "metadata": {},
   "outputs": [],
   "source": [
    "from npy_append_array import NpyAppendArray"
   ]
  },
  {
   "cell_type": "code",
   "execution_count": 3,
   "metadata": {
    "scrolled": true
   },
   "outputs": [
    {
     "name": "stdout",
     "output_type": "stream",
     "text": [
      "Collecting npy-append-array\n",
      "  Downloading npy_append_array-0.9.16-py3-none-any.whl (9.0 kB)\n",
      "Installing collected packages: npy-append-array\n",
      "Successfully installed npy-append-array-0.9.16\n",
      "Note: you may need to restart the kernel to use updated packages.\n"
     ]
    }
   ],
   "source": [
    "pip install npy-append-array"
   ]
  },
  {
   "cell_type": "code",
   "execution_count": 135,
   "metadata": {
    "scrolled": true
   },
   "outputs": [
    {
     "name": "stdout",
     "output_type": "stream",
     "text": [
      "[[3.19403889e-01 7.62959374e-01]\n",
      " [5.74329215e-01 8.79898105e-01]\n",
      " [7.31023631e-01 7.32999876e-01]\n",
      " [8.40353417e-01 2.64731614e-01]\n",
      " [6.50114060e-01 6.81526352e-01]\n",
      " [4.10437137e-01 1.47554299e-01]\n",
      " [3.12691157e-01 7.87227779e-02]\n",
      " [6.83418169e-01 8.61057464e-01]\n",
      " [8.25072518e-02 4.03487506e-01]\n",
      " [8.83889829e-01 5.82253974e-01]\n",
      " [1.00000000e-06 9.99999000e-01]\n",
      " [9.99999000e-01 1.05000000e-02]\n",
      " [6.86868690e-01 7.99900000e-01]\n",
      " [7.00000000e-01 1.00000000e-06]\n",
      " [4.00000000e-01 7.00001000e-01]\n",
      " [6.00000000e-01 2.00001000e-01]]\n"
     ]
    }
   ],
   "source": [
    "from npy_append_array import NpyAppendArray\n",
    "import numpy as np\n",
    "\n",
    "arr1 = np.array([[0.6, 0.200001]])\n",
    "\n",
    "#[0.4      0.700001]\n",
    "#[7.e-01 1.e-06]\n",
    "#arr2 = np.array([[1,2],[3,4],[5,6]])\n",
    "#0.999999 0.0105\n",
    "#0.68686869, 0.7999\n",
    "#0\n",
    "filename = 'initial_data/function_1/initial_inputs.npy'\n",
    "\n",
    "with NpyAppendArray(filename) as npaa:\n",
    "    npaa.append(arr1)\n",
    "    #npaa.append(arr2)\n",
    "    #npaa.append(arr2)\n",
    "    \n",
    "data = np.load(filename, mmap_mode=\"r\")\n",
    "\n",
    "print(data)"
   ]
  },
  {
   "cell_type": "code",
   "execution_count": null,
   "metadata": {},
   "outputs": [],
   "source": [
    "0.0"
   ]
  },
  {
   "cell_type": "code",
   "execution_count": 134,
   "metadata": {},
   "outputs": [
    {
     "name": "stdout",
     "output_type": "stream",
     "text": [
      "[ 1.32267704e-079  1.03307824e-046  7.71087511e-016  3.34177101e-124\n",
      " -3.60606264e-003 -2.15924904e-054 -2.08909327e-091  2.53500115e-040\n",
      "  3.60677119e-081  6.22985647e-048  0.00000000e+000  0.00000000e+000\n",
      " -1.97984359e-008 -2.71643057e-008 -2.65338400e-013 -3.25222169e-019]\n"
     ]
    }
   ],
   "source": [
    "from npy_append_array import NpyAppendArray\n",
    "import numpy as np\n",
    "\n",
    "arr1 = np.array([-0.00000000000000000032522216879037])\n",
    "#2.65338400054608E-40\n",
    "#-3.25222168790371E-57\n",
    "#-2.71643057422953E-179\n",
    "#arr2 = np.array([[1,2],[3,4],[5,6]])\n",
    "#0.0\n",
    "filename = 'initial_data/function_1/initial_outputs.npy'\n",
    "\n",
    "with NpyAppendArray(filename) as npaa:\n",
    "    npaa.append(arr1)\n",
    "    #npaa.append(arr2)\n",
    "    #npaa.append(arr2)\n",
    "    \n",
    "data = np.load(filename, mmap_mode=\"r\")\n",
    "\n",
    "print(data)"
   ]
  },
  {
   "cell_type": "code",
   "execution_count": null,
   "metadata": {},
   "outputs": [],
   "source": [
    "[1.00000e-06 9.99999e-01]"
   ]
  },
  {
   "cell_type": "code",
   "execution_count": 165,
   "metadata": {
    "scrolled": true
   },
   "outputs": [
    {
     "data": {
      "text/plain": [
       "array([[3.19403889e-01, 7.62959374e-01],\n",
       "       [5.74329215e-01, 8.79898105e-01],\n",
       "       [7.31023631e-01, 7.32999876e-01],\n",
       "       [8.40353417e-01, 2.64731614e-01],\n",
       "       [6.50114060e-01, 6.81526352e-01],\n",
       "       [4.10437137e-01, 1.47554299e-01],\n",
       "       [3.12691157e-01, 7.87227779e-02],\n",
       "       [6.83418169e-01, 8.61057464e-01],\n",
       "       [8.25072518e-02, 4.03487506e-01],\n",
       "       [8.83889829e-01, 5.82253974e-01],\n",
       "       [1.00000000e-06, 9.99999000e-01],\n",
       "       [9.99999000e-01, 1.05000000e-02],\n",
       "       [6.86868690e-01, 7.99900000e-01],\n",
       "       [7.00000000e-01, 1.00000000e-06],\n",
       "       [4.00000000e-01, 7.00001000e-01],\n",
       "       [6.00000000e-01, 2.00001000e-01]])"
      ]
     },
     "execution_count": 165,
     "metadata": {},
     "output_type": "execute_result"
    }
   ],
   "source": [
    "X"
   ]
  },
  {
   "cell_type": "code",
   "execution_count": 166,
   "metadata": {
    "scrolled": true
   },
   "outputs": [
    {
     "data": {
      "text/plain": [
       "array([ 1.32267704e-079,  1.03307824e-046,  7.71087511e-016,\n",
       "        3.34177101e-124, -3.60606264e-003, -2.15924904e-054,\n",
       "       -2.08909327e-091,  2.53500115e-040,  3.60677119e-081,\n",
       "        6.22985647e-048,  0.00000000e+000,  0.00000000e+000,\n",
       "       -1.97984359e-008, -2.71643057e-008, -2.65338400e-013,\n",
       "       -3.25222169e-019])"
      ]
     },
     "execution_count": 166,
     "metadata": {},
     "output_type": "execute_result"
    }
   ],
   "source": [
    "Y"
   ]
  },
  {
   "cell_type": "markdown",
   "metadata": {},
   "source": [
    "## Random Search"
   ]
  },
  {
   "cell_type": "markdown",
   "metadata": {},
   "source": [
    "The simplest solution would be a simple random search, that is, we can randomly choose our next query point:"
   ]
  },
  {
   "cell_type": "code",
   "execution_count": null,
   "metadata": {},
   "outputs": [],
   "source": [
    "next_query = np.random.uniform(size = 2)\n",
    "print(next_query)"
   ]
  },
  {
   "cell_type": "markdown",
   "metadata": {},
   "source": [
    "While this solution is easy to implement, we know it will be very slow. However, it could serve as a placeholder for gathering more information while you research which method you want to use for each function."
   ]
  },
  {
   "cell_type": "markdown",
   "metadata": {},
   "source": [
    "# Upper Confidence Bound"
   ]
  },
  {
   "cell_type": "markdown",
   "metadata": {},
   "source": [
    "A second alternative would be to use Bayesian Optimization and consider an Upper Confidence Bound acquisition function: "
   ]
  },
  {
   "cell_type": "code",
   "execution_count": 167,
   "metadata": {
    "scrolled": true
   },
   "outputs": [
    {
     "data": {
      "text/html": [
       "<style>#sk-container-id-9 {color: black;background-color: white;}#sk-container-id-9 pre{padding: 0;}#sk-container-id-9 div.sk-toggleable {background-color: white;}#sk-container-id-9 label.sk-toggleable__label {cursor: pointer;display: block;width: 100%;margin-bottom: 0;padding: 0.3em;box-sizing: border-box;text-align: center;}#sk-container-id-9 label.sk-toggleable__label-arrow:before {content: \"▸\";float: left;margin-right: 0.25em;color: #696969;}#sk-container-id-9 label.sk-toggleable__label-arrow:hover:before {color: black;}#sk-container-id-9 div.sk-estimator:hover label.sk-toggleable__label-arrow:before {color: black;}#sk-container-id-9 div.sk-toggleable__content {max-height: 0;max-width: 0;overflow: hidden;text-align: left;background-color: #f0f8ff;}#sk-container-id-9 div.sk-toggleable__content pre {margin: 0.2em;color: black;border-radius: 0.25em;background-color: #f0f8ff;}#sk-container-id-9 input.sk-toggleable__control:checked~div.sk-toggleable__content {max-height: 200px;max-width: 100%;overflow: auto;}#sk-container-id-9 input.sk-toggleable__control:checked~label.sk-toggleable__label-arrow:before {content: \"▾\";}#sk-container-id-9 div.sk-estimator input.sk-toggleable__control:checked~label.sk-toggleable__label {background-color: #d4ebff;}#sk-container-id-9 div.sk-label input.sk-toggleable__control:checked~label.sk-toggleable__label {background-color: #d4ebff;}#sk-container-id-9 input.sk-hidden--visually {border: 0;clip: rect(1px 1px 1px 1px);clip: rect(1px, 1px, 1px, 1px);height: 1px;margin: -1px;overflow: hidden;padding: 0;position: absolute;width: 1px;}#sk-container-id-9 div.sk-estimator {font-family: monospace;background-color: #f0f8ff;border: 1px dotted black;border-radius: 0.25em;box-sizing: border-box;margin-bottom: 0.5em;}#sk-container-id-9 div.sk-estimator:hover {background-color: #d4ebff;}#sk-container-id-9 div.sk-parallel-item::after {content: \"\";width: 100%;border-bottom: 1px solid gray;flex-grow: 1;}#sk-container-id-9 div.sk-label:hover label.sk-toggleable__label {background-color: #d4ebff;}#sk-container-id-9 div.sk-serial::before {content: \"\";position: absolute;border-left: 1px solid gray;box-sizing: border-box;top: 0;bottom: 0;left: 50%;z-index: 0;}#sk-container-id-9 div.sk-serial {display: flex;flex-direction: column;align-items: center;background-color: white;padding-right: 0.2em;padding-left: 0.2em;position: relative;}#sk-container-id-9 div.sk-item {position: relative;z-index: 1;}#sk-container-id-9 div.sk-parallel {display: flex;align-items: stretch;justify-content: center;background-color: white;position: relative;}#sk-container-id-9 div.sk-item::before, #sk-container-id-9 div.sk-parallel-item::before {content: \"\";position: absolute;border-left: 1px solid gray;box-sizing: border-box;top: 0;bottom: 0;left: 50%;z-index: -1;}#sk-container-id-9 div.sk-parallel-item {display: flex;flex-direction: column;z-index: 1;position: relative;background-color: white;}#sk-container-id-9 div.sk-parallel-item:first-child::after {align-self: flex-end;width: 50%;}#sk-container-id-9 div.sk-parallel-item:last-child::after {align-self: flex-start;width: 50%;}#sk-container-id-9 div.sk-parallel-item:only-child::after {width: 0;}#sk-container-id-9 div.sk-dashed-wrapped {border: 1px dashed gray;margin: 0 0.4em 0.5em 0.4em;box-sizing: border-box;padding-bottom: 0.4em;background-color: white;}#sk-container-id-9 div.sk-label label {font-family: monospace;font-weight: bold;display: inline-block;line-height: 1.2em;}#sk-container-id-9 div.sk-label-container {text-align: center;}#sk-container-id-9 div.sk-container {/* jupyter's `normalize.less` sets `[hidden] { display: none; }` but bootstrap.min.css set `[hidden] { display: none !important; }` so we also need the `!important` here to be able to override the default hidden behavior on the sphinx rendered scikit-learn.org. See: https://github.com/scikit-learn/scikit-learn/issues/21755 */display: inline-block !important;position: relative;}#sk-container-id-9 div.sk-text-repr-fallback {display: none;}</style><div id=\"sk-container-id-9\" class=\"sk-top-container\"><div class=\"sk-text-repr-fallback\"><pre>GaussianProcessRegressor()</pre><b>In a Jupyter environment, please rerun this cell to show the HTML representation or trust the notebook. <br />On GitHub, the HTML representation is unable to render, please try loading this page with nbviewer.org.</b></div><div class=\"sk-container\" hidden><div class=\"sk-item\"><div class=\"sk-estimator sk-toggleable\"><input class=\"sk-toggleable__control sk-hidden--visually\" id=\"sk-estimator-id-9\" type=\"checkbox\" checked><label for=\"sk-estimator-id-9\" class=\"sk-toggleable__label sk-toggleable__label-arrow\">GaussianProcessRegressor</label><div class=\"sk-toggleable__content\"><pre>GaussianProcessRegressor()</pre></div></div></div></div></div>"
      ],
      "text/plain": [
       "GaussianProcessRegressor()"
      ]
     },
     "execution_count": 167,
     "metadata": {},
     "output_type": "execute_result"
    }
   ],
   "source": [
    "gpr = GaussianProcessRegressor()\n",
    "gpr.fit(X, Y)"
   ]
  },
  {
   "cell_type": "code",
   "execution_count": 168,
   "metadata": {},
   "outputs": [],
   "source": [
    "# to optimize the acquisition function, we will simply use gridsearch over a space of 10.000 gridpoints\n",
    "x1 = np.linspace(0, 1, 100)\n",
    "x2 = np.linspace(0, 1, 100)"
   ]
  },
  {
   "cell_type": "code",
   "execution_count": 169,
   "metadata": {},
   "outputs": [
    {
     "data": {
      "text/plain": [
       "array([0.        , 0.01010101, 0.02020202, 0.03030303, 0.04040404,\n",
       "       0.05050505, 0.06060606, 0.07070707, 0.08080808, 0.09090909,\n",
       "       0.1010101 , 0.11111111, 0.12121212, 0.13131313, 0.14141414,\n",
       "       0.15151515, 0.16161616, 0.17171717, 0.18181818, 0.19191919,\n",
       "       0.2020202 , 0.21212121, 0.22222222, 0.23232323, 0.24242424,\n",
       "       0.25252525, 0.26262626, 0.27272727, 0.28282828, 0.29292929,\n",
       "       0.3030303 , 0.31313131, 0.32323232, 0.33333333, 0.34343434,\n",
       "       0.35353535, 0.36363636, 0.37373737, 0.38383838, 0.39393939,\n",
       "       0.4040404 , 0.41414141, 0.42424242, 0.43434343, 0.44444444,\n",
       "       0.45454545, 0.46464646, 0.47474747, 0.48484848, 0.49494949,\n",
       "       0.50505051, 0.51515152, 0.52525253, 0.53535354, 0.54545455,\n",
       "       0.55555556, 0.56565657, 0.57575758, 0.58585859, 0.5959596 ,\n",
       "       0.60606061, 0.61616162, 0.62626263, 0.63636364, 0.64646465,\n",
       "       0.65656566, 0.66666667, 0.67676768, 0.68686869, 0.6969697 ,\n",
       "       0.70707071, 0.71717172, 0.72727273, 0.73737374, 0.74747475,\n",
       "       0.75757576, 0.76767677, 0.77777778, 0.78787879, 0.7979798 ,\n",
       "       0.80808081, 0.81818182, 0.82828283, 0.83838384, 0.84848485,\n",
       "       0.85858586, 0.86868687, 0.87878788, 0.88888889, 0.8989899 ,\n",
       "       0.90909091, 0.91919192, 0.92929293, 0.93939394, 0.94949495,\n",
       "       0.95959596, 0.96969697, 0.97979798, 0.98989899, 1.        ])"
      ]
     },
     "execution_count": 169,
     "metadata": {},
     "output_type": "execute_result"
    }
   ],
   "source": [
    "x2"
   ]
  },
  {
   "cell_type": "code",
   "execution_count": 84,
   "metadata": {},
   "outputs": [
    {
     "data": {
      "text/plain": [
       "array([0.        , 0.01010101, 0.02020202, 0.03030303, 0.04040404,\n",
       "       0.05050505, 0.06060606, 0.07070707, 0.08080808, 0.09090909,\n",
       "       0.1010101 , 0.11111111, 0.12121212, 0.13131313, 0.14141414,\n",
       "       0.15151515, 0.16161616, 0.17171717, 0.18181818, 0.19191919,\n",
       "       0.2020202 , 0.21212121, 0.22222222, 0.23232323, 0.24242424,\n",
       "       0.25252525, 0.26262626, 0.27272727, 0.28282828, 0.29292929,\n",
       "       0.3030303 , 0.31313131, 0.32323232, 0.33333333, 0.34343434,\n",
       "       0.35353535, 0.36363636, 0.37373737, 0.38383838, 0.39393939,\n",
       "       0.4040404 , 0.41414141, 0.42424242, 0.43434343, 0.44444444,\n",
       "       0.45454545, 0.46464646, 0.47474747, 0.48484848, 0.49494949,\n",
       "       0.50505051, 0.51515152, 0.52525253, 0.53535354, 0.54545455,\n",
       "       0.55555556, 0.56565657, 0.57575758, 0.58585859, 0.5959596 ,\n",
       "       0.60606061, 0.61616162, 0.62626263, 0.63636364, 0.64646465,\n",
       "       0.65656566, 0.66666667, 0.67676768, 0.68686869, 0.6969697 ,\n",
       "       0.70707071, 0.71717172, 0.72727273, 0.73737374, 0.74747475,\n",
       "       0.75757576, 0.76767677, 0.77777778, 0.78787879, 0.7979798 ,\n",
       "       0.80808081, 0.81818182, 0.82828283, 0.83838384, 0.84848485,\n",
       "       0.85858586, 0.86868687, 0.87878788, 0.88888889, 0.8989899 ,\n",
       "       0.90909091, 0.91919192, 0.92929293, 0.93939394, 0.94949495,\n",
       "       0.95959596, 0.96969697, 0.97979798, 0.98989899, 1.        ])"
      ]
     },
     "execution_count": 84,
     "metadata": {},
     "output_type": "execute_result"
    }
   ],
   "source": [
    "x1"
   ]
  },
  {
   "cell_type": "code",
   "execution_count": 170,
   "metadata": {},
   "outputs": [],
   "source": [
    "X_grid = []\n",
    "for i in range(len(x1)):\n",
    "    for j in range(len(x2)):\n",
    "        X_grid.append([x1[i], x2[j]])"
   ]
  },
  {
   "cell_type": "code",
   "execution_count": 171,
   "metadata": {},
   "outputs": [
    {
     "data": {
      "text/plain": [
       "10000"
      ]
     },
     "execution_count": 171,
     "metadata": {},
     "output_type": "execute_result"
    }
   ],
   "source": [
    "len(X_grid)"
   ]
  },
  {
   "cell_type": "code",
   "execution_count": 172,
   "metadata": {},
   "outputs": [],
   "source": [
    "X_grid = np.array(X_grid)"
   ]
  },
  {
   "cell_type": "code",
   "execution_count": 173,
   "metadata": {
    "scrolled": true
   },
   "outputs": [
    {
     "data": {
      "text/plain": [
       "array([[0.        , 0.        ],\n",
       "       [0.        , 0.01010101],\n",
       "       [0.        , 0.02020202],\n",
       "       ...,\n",
       "       [1.        , 0.97979798],\n",
       "       [1.        , 0.98989899],\n",
       "       [1.        , 1.        ]])"
      ]
     },
     "execution_count": 173,
     "metadata": {},
     "output_type": "execute_result"
    }
   ],
   "source": [
    "X_grid"
   ]
  },
  {
   "cell_type": "code",
   "execution_count": 174,
   "metadata": {},
   "outputs": [],
   "source": [
    "#X_grid = np.array(X_grid)\n",
    "mean, std = gpr.predict(X_grid, return_std = True)\n",
    "ucb = mean + 1.96 * std"
   ]
  },
  {
   "cell_type": "code",
   "execution_count": 175,
   "metadata": {
    "scrolled": true
   },
   "outputs": [
    {
     "data": {
      "text/plain": [
       "array([0.07807197, 0.07818982, 0.07816021, ..., 0.07238016, 0.07245401,\n",
       "       0.07237492])"
      ]
     },
     "execution_count": 175,
     "metadata": {},
     "output_type": "execute_result"
    }
   ],
   "source": [
    "ucb"
   ]
  },
  {
   "cell_type": "code",
   "execution_count": 176,
   "metadata": {},
   "outputs": [
    {
     "data": {
      "text/plain": [
       "array([0.06091411, 0.06111475, 0.06117247, ..., 0.05322625, 0.05246868,\n",
       "       0.05153309])"
      ]
     },
     "execution_count": 176,
     "metadata": {},
     "output_type": "execute_result"
    }
   ],
   "source": [
    "mean"
   ]
  },
  {
   "cell_type": "code",
   "execution_count": 177,
   "metadata": {},
   "outputs": [
    {
     "data": {
      "text/plain": [
       "array([0.07807197, 0.07818982, 0.07816021, ..., 0.07238016, 0.07245401,\n",
       "       0.07237492])"
      ]
     },
     "execution_count": 177,
     "metadata": {},
     "output_type": "execute_result"
    }
   ],
   "source": [
    "mean + std * 1.96"
   ]
  },
  {
   "cell_type": "code",
   "execution_count": 178,
   "metadata": {},
   "outputs": [
    {
     "data": {
      "text/plain": [
       "array([0.07807197, 0.07818982, 0.07816021, ..., 0.07238016, 0.07245401,\n",
       "       0.07237492])"
      ]
     },
     "execution_count": 178,
     "metadata": {},
     "output_type": "execute_result"
    }
   ],
   "source": [
    "ucb"
   ]
  },
  {
   "cell_type": "code",
   "execution_count": 179,
   "metadata": {},
   "outputs": [],
   "source": [
    "idx_max = np.argmax(ucb)\n"
   ]
  },
  {
   "cell_type": "code",
   "execution_count": 180,
   "metadata": {
    "scrolled": false
   },
   "outputs": [
    {
     "name": "stdout",
     "output_type": "stream",
     "text": [
      "[0.         0.01010101]\n"
     ]
    }
   ],
   "source": [
    "next_query = X_grid[idx_max]\n",
    "print(next_query)"
   ]
  },
  {
   "cell_type": "code",
   "execution_count": null,
   "metadata": {},
   "outputs": [],
   "source": []
  },
  {
   "cell_type": "code",
   "execution_count": null,
   "metadata": {},
   "outputs": [],
   "source": []
  },
  {
   "cell_type": "markdown",
   "metadata": {},
   "source": [
    "## Visualizing our data and thinking of the problem"
   ]
  },
  {
   "cell_type": "markdown",
   "metadata": {},
   "source": [
    "It is important when tackling problems to really think about the best strategy and to do some exploratory data analysis. Let's consider what we know about the problem:\n",
    "\n",
    "1. From the hints, we expect two modes in the unknown function.\n",
    "\n",
    "2. From the hints, we know that most of our queries should be zero!\n",
    "\n",
    "3. The problem is two-dimensional.\n",
    "\n",
    "4. The problem will have small length-scale (that is, we expect the modes to be very small)\n",
    "\n",
    "From (3.) we can take advantage, and plot the initial data:"
   ]
  },
  {
   "cell_type": "code",
   "execution_count": 35,
   "metadata": {
    "scrolled": true
   },
   "outputs": [
    {
     "data": {
      "image/png": "[encoded data removed]",
      "text/plain": [
       "<Figure size 576x360 with 2 Axes>"
      ]
     },
     "metadata": {
      "needs_background": "light"
     },
     "output_type": "display_data"
    }
   ],
   "source": [
    "fig, ax = plt.subplots()\n",
    "fig.set_figheight(5)\n",
    "fig.set_figwidth(8)\n",
    "plt.scatter(X[:, 0], X[:, 1], c = Y)\n",
    "plt.colorbar();"
   ]
  },
  {
   "cell_type": "markdown",
   "metadata": {},
   "source": [
    "We know that function has two kinds of local maximums, thanks to the hints, we also expect most of our reading to be zero. The fact that we have a perturbation or non-zero value at $x$ = [0.6262626262626263, 0.6767676767676768] means we should be interested in this area. An alternative solution would be to focus only on this area, there are two ways to do this:\n",
    "\n",
    "1. Run random search in an area restricted around $x$ = [0.6262626262626263, 0.6767676767676768]\n",
    "\n",
    "2. Solve the UCB in an area restricted around $x$ = [0.6262626262626263, 0.6767676767676768]\n",
    "\n",
    "Below we provide code for both:"
   ]
  },
  {
   "cell_type": "code",
   "execution_count": 36,
   "metadata": {
    "scrolled": true
   },
   "outputs": [
    {
     "name": "stdout",
     "output_type": "stream",
     "text": [
      "Next query Random:  [0.6236213094097649, 0.6809417383880134]\n"
     ]
    }
   ],
   "source": [
    "# Random search around an area restricted around $x$ = [0.6262626262626263, 0.6767676767676768]\n",
    "next_query_x1 = np.random.normal(0.6262626262626263, scale = 0.01)\n",
    "next_query_x2 = np.random.normal(0.6767676767676768, scale = 0.01)\n",
    "print('Next query Random: ', [next_query_x1, next_query_x2])"
   ]
  },
  {
   "cell_type": "code",
   "execution_count": 42,
   "metadata": {},
   "outputs": [
    {
     "data": {
      "text/plain": [
       "GaussianProcessRegressor()"
      ]
     },
     "execution_count": 42,
     "metadata": {},
     "output_type": "execute_result"
    }
   ],
   "source": [
    "# Using a restricted UCB\n",
    "gpr = GaussianProcessRegressor()\n",
    "gpr.fit(X, Y)"
   ]
  },
  {
   "cell_type": "code",
   "execution_count": 43,
   "metadata": {},
   "outputs": [],
   "source": [
    "# to optimize the acquisition function, we will simply use gridsearch over a space of 10.000 gridpoints\n",
    "x1 = np.linspace(0.6, 0.65, 100)\n",
    "x2 = np.linspace(0.65, 0.69, 100)"
   ]
  },
  {
   "cell_type": "code",
   "execution_count": 44,
   "metadata": {},
   "outputs": [],
   "source": [
    "X_grid = []\n",
    "for i in range(len(x1)):\n",
    "    for j in range(len(x2)):\n",
    "        X_grid.append([x1[i], x2[j]])"
   ]
  },
  {
   "cell_type": "code",
   "execution_count": 45,
   "metadata": {},
   "outputs": [],
   "source": [
    "X_grid = np.array(X_grid)\n",
    "mean, std = gpr.predict(X_grid, return_std = True)\n",
    "ucb = mean + 1.96 * std"
   ]
  },
  {
   "cell_type": "code",
   "execution_count": 46,
   "metadata": {},
   "outputs": [
    {
     "name": "stdout",
     "output_type": "stream",
     "text": [
      "Next query UCB:  [0.65 0.65]\n"
     ]
    }
   ],
   "source": [
    "idx_max = np.argmax(ucb)\n",
    "next_query = X_grid[idx_max]\n",
    "print('Next query UCB: ', next_query)"
   ]
  },
  {
   "cell_type": "markdown",
   "metadata": {},
   "source": [
    "Doing this every week, we expect to be able to find the first of the two modes! This should would be enough to provide a good solution to the problem. To really verify if we found the maximum, we would need to find a second mode, however, we may be unlucky and simply never find it. This is an important part of Machine Learning: in theory we might want optimal, perfect solutions, but in practice most of the advancements can be done with simple solutions and careful consideration of the data available to us."
   ]
  },
  {
   "cell_type": "code",
   "execution_count": 195,
   "metadata": {},
   "outputs": [],
   "source": [
    "g1=gpr.predict([[0.000001,0.01010101]])"
   ]
  },
  {
   "cell_type": "code",
   "execution_count": 196,
   "metadata": {},
   "outputs": [
    {
     "data": {
      "text/plain": [
       "array([0.06111443])"
      ]
     },
     "execution_count": 196,
     "metadata": {},
     "output_type": "execute_result"
    }
   ],
   "source": [
    "g1"
   ]
  },
  {
   "cell_type": "code",
   "execution_count": 197,
   "metadata": {},
   "outputs": [],
   "source": [
    "g2=gpr.predict([[0.65, 0.65]])"
   ]
  },
  {
   "cell_type": "code",
   "execution_count": 198,
   "metadata": {},
   "outputs": [
    {
     "data": {
      "text/plain": [
       "array([-0.00446746])"
      ]
     },
     "execution_count": 198,
     "metadata": {},
     "output_type": "execute_result"
    }
   ],
   "source": [
    "g2"
   ]
  },
  {
   "cell_type": "code",
   "execution_count": 69,
   "metadata": {},
   "outputs": [],
   "source": [
    "g3=gpr.predict([[0.73102363, 0.73299988]])"
   ]
  },
  {
   "cell_type": "code",
   "execution_count": 70,
   "metadata": {
    "scrolled": true
   },
   "outputs": [
    {
     "data": {
      "text/plain": [
       "array([-8.31682883e-08])"
      ]
     },
     "execution_count": 70,
     "metadata": {},
     "output_type": "execute_result"
    }
   ],
   "source": [
    "g3"
   ]
  },
  {
   "cell_type": "code",
   "execution_count": 71,
   "metadata": {},
   "outputs": [],
   "source": [
    "g4=gpr.predict([[0, 0.999]])"
   ]
  },
  {
   "cell_type": "code",
   "execution_count": 72,
   "metadata": {},
   "outputs": [
    {
     "data": {
      "text/plain": [
       "array([0.10233637])"
      ]
     },
     "execution_count": 72,
     "metadata": {},
     "output_type": "execute_result"
    }
   ],
   "source": [
    "g4"
   ]
  },
  {
   "cell_type": "code",
   "execution_count": 73,
   "metadata": {},
   "outputs": [],
   "source": [
    "g5=gpr.predict([[0.000001, 0.999]]Z)"
   ]
  },
  {
   "cell_type": "code",
   "execution_count": 74,
   "metadata": {
    "scrolled": true
   },
   "outputs": [
    {
     "data": {
      "text/plain": [
       "array([0.10233605])"
      ]
     },
     "execution_count": 74,
     "metadata": {},
     "output_type": "execute_result"
    }
   ],
   "source": [
    "g5"
   ]
  },
  {
   "cell_type": "code",
   "execution_count": 76,
   "metadata": {},
   "outputs": [],
   "source": [
    "g6=gpr.sample_y([[0.73102363, 0.73299988]], n_samples=1, random_state=0)"
   ]
  },
  {
   "cell_type": "code",
   "execution_count": 77,
   "metadata": {},
   "outputs": [
    {
     "data": {
      "text/plain": [
       "array([[1.75570034e-05]])"
      ]
     },
     "execution_count": 77,
     "metadata": {},
     "output_type": "execute_result"
    }
   ],
   "source": [
    "g6"
   ]
  },
  {
   "cell_type": "code",
   "execution_count": 168,
   "metadata": {},
   "outputs": [
    {
     "data": {
      "text/plain": [
       "array([[-0.00298718]])"
      ]
     },
     "execution_count": 168,
     "metadata": {},
     "output_type": "execute_result"
    }
   ],
   "source": [
    "g7=gpr.sample_y([[0.65, 0.65]], n_samples=1, random_state=0)\n",
    "g7"
   ]
  },
  {
   "cell_type": "code",
   "execution_count": 79,
   "metadata": {},
   "outputs": [
    {
     "data": {
      "text/plain": [
       "array([[0.23653592]])"
      ]
     },
     "execution_count": 79,
     "metadata": {},
     "output_type": "execute_result"
    }
   ],
   "source": [
    "g8=gpr.sample_y([[0.000001, 0.999]], n_samples=1, random_state=0)\n",
    "\n",
    "g8"
   ]
  },
  {
   "cell_type": "code",
   "execution_count": 154,
   "metadata": {
    "scrolled": true
   },
   "outputs": [
    {
     "data": {
      "text/plain": [
       "array([[0.23713001]])"
      ]
     },
     "execution_count": 154,
     "metadata": {},
     "output_type": "execute_result"
    }
   ],
   "source": [
    "g9=gpr.sample_y([[0.0000001, 0.9999999]], n_samples=1, random_state=0)\n",
    "g9"
   ]
  },
  {
   "cell_type": "code",
   "execution_count": 36,
   "metadata": {
    "scrolled": true
   },
   "outputs": [
    {
     "data": {
      "text/plain": [
       "array([[0.06173041]])"
      ]
     },
     "execution_count": 36,
     "metadata": {},
     "output_type": "execute_result"
    }
   ],
   "source": [
    "g10=gpr.sample_y([[0.7,.000001]], n_samples=1, random_state=0)\n",
    "g10"
   ]
  },
  {
   "cell_type": "code",
   "execution_count": null,
   "metadata": {},
   "outputs": [],
   "source": []
  },
  {
   "cell_type": "code",
   "execution_count": null,
   "metadata": {},
   "outputs": [],
   "source": [
    "[0.23712556], array([[0.23712716]])--->[[0.000003, 0.999999]],array([[0.23712876]])-[[0.000001, 0.999999]]"
   ]
  },
  {
   "cell_type": "markdown",
   "metadata": {},
   "source": [
    "\n",
    "\n",
    "function 2"
   ]
  },
  {
   "cell_type": "code",
   "execution_count": 199,
   "metadata": {},
   "outputs": [],
   "source": [
    "X2 = np.load('initial_data/function_2/initial_inputs.npy')\n",
    "Y2 = np.load('initial_data/function_2/initial_outputs.npy')"
   ]
  },
  {
   "cell_type": "code",
   "execution_count": 200,
   "metadata": {
    "scrolled": true
   },
   "outputs": [
    {
     "data": {
      "text/plain": [
       "array([[6.65799580e-01, 1.23969128e-01],\n",
       "       [8.77790989e-01, 7.78627501e-01],\n",
       "       [1.42699074e-01, 3.49005131e-01],\n",
       "       [8.45275429e-01, 7.11120267e-01],\n",
       "       [4.54647141e-01, 2.90455180e-01],\n",
       "       [5.77712844e-01, 7.71973184e-01],\n",
       "       [4.38166062e-01, 6.85018257e-01],\n",
       "       [3.41749593e-01, 2.86977198e-02],\n",
       "       [3.38648157e-01, 2.13867246e-01],\n",
       "       [7.02636557e-01, 9.26564198e-01],\n",
       "       [1.00000000e-06, 9.99999000e-01],\n",
       "       [1.00000000e-06, 9.99999000e-01],\n",
       "       [9.99000000e-01, 9.99999000e-01],\n",
       "       [2.00000000e-02, 6.96969000e-01],\n",
       "       [3.33333000e-01, 5.55555000e-01],\n",
       "       [7.77700000e-01, 2.22200000e-01],\n",
       "       [2.22000000e-01, 9.99900000e-01]])"
      ]
     },
     "execution_count": 200,
     "metadata": {},
     "output_type": "execute_result"
    }
   ],
   "source": [
    "X2"
   ]
  },
  {
   "cell_type": "code",
   "execution_count": 201,
   "metadata": {},
   "outputs": [
    {
     "data": {
      "text/plain": [
       "array([ 0.53899612,  0.42058624, -0.06562362,  0.29399291,  0.21496451,\n",
       "        0.02310555,  0.24461934,  0.03874902, -0.01385762,  0.61120522,\n",
       "       -0.07973032, -0.07973032,  0.07632545, -0.04923016,  0.00568457,\n",
       "        0.16200247, -0.00126018])"
      ]
     },
     "execution_count": 201,
     "metadata": {},
     "output_type": "execute_result"
    }
   ],
   "source": [
    "Y2 = np.load('initial_data/function_2/initial_outputs.npy')\n",
    "Y2"
   ]
  },
  {
   "cell_type": "code",
   "execution_count": 141,
   "metadata": {
    "scrolled": true
   },
   "outputs": [
    {
     "name": "stdout",
     "output_type": "stream",
     "text": [
      "[[6.65799580e-01 1.23969128e-01]\n",
      " [8.77790989e-01 7.78627501e-01]\n",
      " [1.42699074e-01 3.49005131e-01]\n",
      " [8.45275429e-01 7.11120267e-01]\n",
      " [4.54647141e-01 2.90455180e-01]\n",
      " [5.77712844e-01 7.71973184e-01]\n",
      " [4.38166062e-01 6.85018257e-01]\n",
      " [3.41749593e-01 2.86977198e-02]\n",
      " [3.38648157e-01 2.13867246e-01]\n",
      " [7.02636557e-01 9.26564198e-01]\n",
      " [1.00000000e-06 9.99999000e-01]\n",
      " [1.00000000e-06 9.99999000e-01]\n",
      " [9.99000000e-01 9.99999000e-01]\n",
      " [2.00000000e-02 6.96969000e-01]\n",
      " [3.33333000e-01 5.55555000e-01]\n",
      " [7.77700000e-01 2.22200000e-01]\n",
      " [2.22000000e-01 9.99900000e-01]]\n",
      "[ 0.53899612  0.42058624 -0.06562362  0.29399291  0.21496451  0.02310555\n",
      "  0.24461934  0.03874902 -0.01385762  0.61120522 -0.07973032 -0.07973032\n",
      "  0.07632545 -0.04923016  0.00568457  0.16200247 -0.00126018]\n"
     ]
    }
   ],
   "source": [
    "from npy_append_array import NpyAppendArray\n",
    "import numpy as np\n",
    "\n",
    "arr1 = np.array([[0.222,0.9999]])\n",
    "#[0.333333 0.5555  ]\n",
    "#[0.7777 0.2222]\n",
    "#[0.222  0.9999]\n",
    "#[1.00000e-06 9.99999e-01]\n",
    "#0.999    0.999999\n",
    "#0.02     0.696969\n",
    "arr2= np.array([-0.0012601845213012500])\n",
    "\n",
    "#0.0056845725343860600\n",
    "#0.16200247156546100\n",
    "#-0.0012601845213012500\n",
    "#arr2 = np.array([[1,2],[3,4],[5,6]])\n",
    "#0.0763254525381202\n",
    "#-0.0492301613915482\n",
    "filename1 = 'initial_data/function_2/initial_inputs.npy'\n",
    "filename2 = 'initial_data/function_2/initial_outputs.npy'\n",
    "\n",
    "with NpyAppendArray(filename1) as npaa:\n",
    "    npaa.append(arr1)\n",
    "    #npaa.append(arr2)\n",
    "    #npaa.append(arr2)\n",
    "    \n",
    "data1 = np.load(filename1, mmap_mode=\"r\")\n",
    "with NpyAppendArray(filename2) as npaa1:\n",
    "    npaa1.append(arr2)\n",
    "    #npaa.append(arr2)\n",
    "    #npaa.append(arr2)\n",
    "    \n",
    "data2 = np.load(filename2, mmap_mode=\"r\")\n",
    "\n",
    "print(data1)\n",
    "print(data2)"
   ]
  },
  {
   "cell_type": "code",
   "execution_count": 39,
   "metadata": {
    "scrolled": false
   },
   "outputs": [
    {
     "data": {
      "text/plain": [
       "array([[6.65799580e-01, 1.23969128e-01],\n",
       "       [8.77790989e-01, 7.78627501e-01],\n",
       "       [1.42699074e-01, 3.49005131e-01],\n",
       "       [8.45275429e-01, 7.11120267e-01],\n",
       "       [4.54647141e-01, 2.90455180e-01],\n",
       "       [5.77712844e-01, 7.71973184e-01],\n",
       "       [4.38166062e-01, 6.85018257e-01],\n",
       "       [3.41749593e-01, 2.86977198e-02],\n",
       "       [3.38648157e-01, 2.13867246e-01],\n",
       "       [7.02636557e-01, 9.26564198e-01],\n",
       "       [1.00000000e-06, 9.99999000e-01],\n",
       "       [1.00000000e-06, 9.99999000e-01],\n",
       "       [9.99000000e-01, 9.99999000e-01],\n",
       "       [2.00000000e-02, 6.96969000e-01]])"
      ]
     },
     "execution_count": 39,
     "metadata": {},
     "output_type": "execute_result"
    }
   ],
   "source": [
    "X2"
   ]
  },
  {
   "cell_type": "code",
   "execution_count": 40,
   "metadata": {
    "scrolled": false
   },
   "outputs": [
    {
     "data": {
      "text/plain": [
       "array([ 0.53899612,  0.42058624, -0.06562362,  0.29399291,  0.21496451,\n",
       "        0.02310555,  0.24461934,  0.03874902, -0.01385762,  0.61120522,\n",
       "       -0.07973032, -0.07973032,  0.07632545, -0.04923016])"
      ]
     },
     "execution_count": 40,
     "metadata": {},
     "output_type": "execute_result"
    }
   ],
   "source": [
    "Y2"
   ]
  },
  {
   "cell_type": "code",
   "execution_count": 202,
   "metadata": {},
   "outputs": [
    {
     "data": {
      "text/html": [
       "<style>#sk-container-id-10 {color: black;background-color: white;}#sk-container-id-10 pre{padding: 0;}#sk-container-id-10 div.sk-toggleable {background-color: white;}#sk-container-id-10 label.sk-toggleable__label {cursor: pointer;display: block;width: 100%;margin-bottom: 0;padding: 0.3em;box-sizing: border-box;text-align: center;}#sk-container-id-10 label.sk-toggleable__label-arrow:before {content: \"▸\";float: left;margin-right: 0.25em;color: #696969;}#sk-container-id-10 label.sk-toggleable__label-arrow:hover:before {color: black;}#sk-container-id-10 div.sk-estimator:hover label.sk-toggleable__label-arrow:before {color: black;}#sk-container-id-10 div.sk-toggleable__content {max-height: 0;max-width: 0;overflow: hidden;text-align: left;background-color: #f0f8ff;}#sk-container-id-10 div.sk-toggleable__content pre {margin: 0.2em;color: black;border-radius: 0.25em;background-color: #f0f8ff;}#sk-container-id-10 input.sk-toggleable__control:checked~div.sk-toggleable__content {max-height: 200px;max-width: 100%;overflow: auto;}#sk-container-id-10 input.sk-toggleable__control:checked~label.sk-toggleable__label-arrow:before {content: \"▾\";}#sk-container-id-10 div.sk-estimator input.sk-toggleable__control:checked~label.sk-toggleable__label {background-color: #d4ebff;}#sk-container-id-10 div.sk-label input.sk-toggleable__control:checked~label.sk-toggleable__label {background-color: #d4ebff;}#sk-container-id-10 input.sk-hidden--visually {border: 0;clip: rect(1px 1px 1px 1px);clip: rect(1px, 1px, 1px, 1px);height: 1px;margin: -1px;overflow: hidden;padding: 0;position: absolute;width: 1px;}#sk-container-id-10 div.sk-estimator {font-family: monospace;background-color: #f0f8ff;border: 1px dotted black;border-radius: 0.25em;box-sizing: border-box;margin-bottom: 0.5em;}#sk-container-id-10 div.sk-estimator:hover {background-color: #d4ebff;}#sk-container-id-10 div.sk-parallel-item::after {content: \"\";width: 100%;border-bottom: 1px solid gray;flex-grow: 1;}#sk-container-id-10 div.sk-label:hover label.sk-toggleable__label {background-color: #d4ebff;}#sk-container-id-10 div.sk-serial::before {content: \"\";position: absolute;border-left: 1px solid gray;box-sizing: border-box;top: 0;bottom: 0;left: 50%;z-index: 0;}#sk-container-id-10 div.sk-serial {display: flex;flex-direction: column;align-items: center;background-color: white;padding-right: 0.2em;padding-left: 0.2em;position: relative;}#sk-container-id-10 div.sk-item {position: relative;z-index: 1;}#sk-container-id-10 div.sk-parallel {display: flex;align-items: stretch;justify-content: center;background-color: white;position: relative;}#sk-container-id-10 div.sk-item::before, #sk-container-id-10 div.sk-parallel-item::before {content: \"\";position: absolute;border-left: 1px solid gray;box-sizing: border-box;top: 0;bottom: 0;left: 50%;z-index: -1;}#sk-container-id-10 div.sk-parallel-item {display: flex;flex-direction: column;z-index: 1;position: relative;background-color: white;}#sk-container-id-10 div.sk-parallel-item:first-child::after {align-self: flex-end;width: 50%;}#sk-container-id-10 div.sk-parallel-item:last-child::after {align-self: flex-start;width: 50%;}#sk-container-id-10 div.sk-parallel-item:only-child::after {width: 0;}#sk-container-id-10 div.sk-dashed-wrapped {border: 1px dashed gray;margin: 0 0.4em 0.5em 0.4em;box-sizing: border-box;padding-bottom: 0.4em;background-color: white;}#sk-container-id-10 div.sk-label label {font-family: monospace;font-weight: bold;display: inline-block;line-height: 1.2em;}#sk-container-id-10 div.sk-label-container {text-align: center;}#sk-container-id-10 div.sk-container {/* jupyter's `normalize.less` sets `[hidden] { display: none; }` but bootstrap.min.css set `[hidden] { display: none !important; }` so we also need the `!important` here to be able to override the default hidden behavior on the sphinx rendered scikit-learn.org. See: https://github.com/scikit-learn/scikit-learn/issues/21755 */display: inline-block !important;position: relative;}#sk-container-id-10 div.sk-text-repr-fallback {display: none;}</style><div id=\"sk-container-id-10\" class=\"sk-top-container\"><div class=\"sk-text-repr-fallback\"><pre>GaussianProcessRegressor()</pre><b>In a Jupyter environment, please rerun this cell to show the HTML representation or trust the notebook. <br />On GitHub, the HTML representation is unable to render, please try loading this page with nbviewer.org.</b></div><div class=\"sk-container\" hidden><div class=\"sk-item\"><div class=\"sk-estimator sk-toggleable\"><input class=\"sk-toggleable__control sk-hidden--visually\" id=\"sk-estimator-id-10\" type=\"checkbox\" checked><label for=\"sk-estimator-id-10\" class=\"sk-toggleable__label sk-toggleable__label-arrow\">GaussianProcessRegressor</label><div class=\"sk-toggleable__content\"><pre>GaussianProcessRegressor()</pre></div></div></div></div></div>"
      ],
      "text/plain": [
       "GaussianProcessRegressor()"
      ]
     },
     "execution_count": 202,
     "metadata": {},
     "output_type": "execute_result"
    }
   ],
   "source": [
    "gpr2 = GaussianProcessRegressor()\n",
    "gpr2.fit(X2, Y2)"
   ]
  },
  {
   "cell_type": "code",
   "execution_count": 203,
   "metadata": {},
   "outputs": [],
   "source": [
    "# to optimize the acquisition function, we will simply use gridsearch over a space of 10.000 gridpoints\n",
    "x3 = np.linspace(0, 1, 100)\n",
    "x4 = np.linspace(0, 1, 100)"
   ]
  },
  {
   "cell_type": "code",
   "execution_count": 204,
   "metadata": {},
   "outputs": [],
   "source": [
    "X_grid1 = []\n",
    "for i in range(len(x3)):\n",
    "    for j in range(len(x4)):\n",
    "        X_grid1.append([x3[i], x4[j]])"
   ]
  },
  {
   "cell_type": "code",
   "execution_count": 205,
   "metadata": {},
   "outputs": [],
   "source": [
    "X_grid1 = np.array(X_grid1)"
   ]
  },
  {
   "cell_type": "code",
   "execution_count": 206,
   "metadata": {
    "scrolled": true
   },
   "outputs": [
    {
     "name": "stdout",
     "output_type": "stream",
     "text": [
      "[0. 0.]\n"
     ]
    }
   ],
   "source": [
    "mean1, std1 = gpr2.predict(X_grid1, return_std = True)\n",
    "ucb1 = mean1 + 1.96 * std1\n",
    "idx_max1 = np.argmax(ucb1)\n",
    "next_query1 = X_grid1[idx_max1]\n",
    "print(next_query1)"
   ]
  },
  {
   "cell_type": "code",
   "execution_count": 214,
   "metadata": {},
   "outputs": [
    {
     "data": {
      "text/plain": [
       "array([[10.43928053]])"
      ]
     },
     "execution_count": 214,
     "metadata": {},
     "output_type": "execute_result"
    }
   ],
   "source": [
    "g11=gpr2.sample_y([[0.0000001, 0.0000001]], n_samples=1, random_state=0)\n",
    "g11"
   ]
  },
  {
   "cell_type": "code",
   "execution_count": 215,
   "metadata": {
    "scrolled": true
   },
   "outputs": [
    {
     "data": {
      "text/plain": [
       "array([[-0.04920026]])"
      ]
     },
     "execution_count": 215,
     "metadata": {},
     "output_type": "execute_result"
    }
   ],
   "source": [
    "g11=gpr2.sample_y([[.02, 0.6969697]], n_samples=1, random_state=0)\n",
    "g11"
   ]
  },
  {
   "cell_type": "code",
   "execution_count": null,
   "metadata": {},
   "outputs": [],
   "source": []
  },
  {
   "cell_type": "code",
   "execution_count": null,
   "metadata": {},
   "outputs": [],
   "source": [
    "array([[10.0905854]])--[00,1]"
   ]
  },
  {
   "cell_type": "markdown",
   "metadata": {},
   "source": [
    "function 3"
   ]
  },
  {
   "cell_type": "code",
   "execution_count": 216,
   "metadata": {},
   "outputs": [],
   "source": [
    "X3 = np.load('initial_data/function_3/initial_inputs.npy')\n",
    "Y3 = np.load('initial_data/function_3/initial_outputs.npy')\n"
   ]
  },
  {
   "cell_type": "code",
   "execution_count": 150,
   "metadata": {
    "scrolled": true
   },
   "outputs": [
    {
     "name": "stdout",
     "output_type": "stream",
     "text": [
      "[[1.71525207e-01 3.43916870e-01 2.48737201e-01]\n",
      " [2.42114461e-01 6.44074270e-01 2.72432809e-01]\n",
      " [5.34905720e-01 3.98500915e-01 1.73388729e-01]\n",
      " [4.92581415e-01 6.11593188e-01 3.40176386e-01]\n",
      " [1.34621666e-01 2.19917240e-01 4.58206220e-01]\n",
      " [3.45523271e-01 9.41359831e-01 2.69363479e-01]\n",
      " [1.51836632e-01 4.39990619e-01 9.90881867e-01]\n",
      " [6.45502835e-01 3.97142940e-01 9.19771338e-01]\n",
      " [7.46911945e-01 2.84196309e-01 2.26299855e-01]\n",
      " [1.70476994e-01 6.97032401e-01 1.49169434e-01]\n",
      " [2.20549337e-01 2.97825244e-01 3.43555344e-01]\n",
      " [6.66013659e-01 6.71985151e-01 2.46295297e-01]\n",
      " [4.68089497e-02 2.31360241e-01 7.70617592e-01]\n",
      " [6.00097282e-01 7.25135725e-01 6.60886415e-02]\n",
      " [9.65994849e-01 8.61119690e-01 5.66829131e-01]\n",
      " [9.99999000e-01 1.00000000e-06 7.00000000e-01]\n",
      " [9.99999000e-01 9.99999000e-01 9.99999000e-01]\n",
      " [4.74747000e-01 9.99999000e-01 1.11000000e-02]\n",
      " [5.55000000e-01 5.55500000e-01 6.66600000e-01]\n",
      " [6.66000000e-01 3.33300000e-01 7.77000000e-01]\n",
      " [3.33330000e-01 7.77700000e-01 5.55000000e-01]]\n",
      "[-0.1121222  -0.08796286 -0.11141465 -0.03483531 -0.04800758 -0.11062091\n",
      " -0.39892551 -0.11386851 -0.13146061 -0.09418956 -0.04694741 -0.10596504\n",
      " -0.11804826 -0.03637783 -0.05675837 -0.1918191  -0.47622425 -0.12762136\n",
      " -0.11337025 -0.10683509 -0.02871441]\n"
     ]
    }
   ],
   "source": [
    "#from npy_append_array import NpyAppendArray\n",
    "#import numpy as np\n",
    "\n",
    "arr1 = np.array([[0.33333, 0.7777,  0.555]])\n",
    "\n",
    "#[0.555  0.5555 0.6666]\n",
    "#[0.666  0.3333 0.777 ]\n",
    "#[0.33333 0.7777  0.555  ]\n",
    "#0.999999 0.999999 0.999999]\n",
    "#0.474747 0.999999 0.0111\n",
    "arr2= np.array([-0.028714410139804100])\n",
    "\n",
    "#-0.11337025313943500\n",
    "#-0.1068350931216960\n",
    "#-0.028714410139804100\n",
    "#-0.4762242492423060\n",
    "#-0.127621363181451\n",
    "filename1 = 'initial_data/function_3/initial_inputs.npy'\n",
    "filename2 = 'initial_data/function_3/initial_outputs.npy'\n",
    "\n",
    "with NpyAppendArray(filename1) as npaa:\n",
    "    npaa.append(arr1)\n",
    "    #npaa.append(arr2)\n",
    "    #npaa.append(arr2)\n",
    "    \n",
    "data1 = np.load(filename1, mmap_mode=\"r\")\n",
    "with NpyAppendArray(filename2) as npaa1:\n",
    "    npaa1.append(arr2)\n",
    "    #npaa.append(arr2)\n",
    "    #npaa.append(arr2)\n",
    "    \n",
    "data2 = np.load(filename2, mmap_mode=\"r\")\n",
    "\n",
    "print(data1)\n",
    "print(data2)"
   ]
  },
  {
   "cell_type": "code",
   "execution_count": 240,
   "metadata": {},
   "outputs": [],
   "source": [
    "arr1 = np.array([[0.999999,0.999999,0.999999]])\n",
    "#0.999999 0.999999 0.999999]\n",
    "arr2= np.array([-0.4762242492423060])\n",
    "#-0.4762242492423060\n",
    "filename1 = 'initial_data/function_3/initial_inputs.npy'\n",
    "filename2 = 'initial_data/function_3/initial_outputs.npy'\n",
    "\n",
    "with NpyAppendArray(filename1) as npaa:\n",
    "    npaa.append(arr1)\n",
    "    #npaa.append(arr2)\n",
    "    #npaa.append(arr2)"
   ]
  },
  {
   "cell_type": "code",
   "execution_count": 234,
   "metadata": {},
   "outputs": [],
   "source": [
    "arr2= np.array([-0.4762242492423060])\n",
    "filename2 = 'initial_data/function_3/initial_outputs.npy'\n",
    "with NpyAppendArray(filename2) as npaa1:\n",
    "    npaa1.append(arr2)"
   ]
  },
  {
   "cell_type": "code",
   "execution_count": 236,
   "metadata": {},
   "outputs": [],
   "source": [
    "data1 = np.load(filename1, mmap_mode=\"r\")\n",
    "data2 = np.load(filename2, mmap_mode=\"r\")"
   ]
  },
  {
   "cell_type": "code",
   "execution_count": 237,
   "metadata": {},
   "outputs": [
    {
     "name": "stdout",
     "output_type": "stream",
     "text": [
      "[[6.65799580e-01 1.23969128e-01]\n",
      " [8.77790989e-01 7.78627501e-01]\n",
      " [1.42699074e-01 3.49005131e-01]\n",
      " [8.45275429e-01 7.11120267e-01]\n",
      " [4.54647141e-01 2.90455180e-01]\n",
      " [5.77712844e-01 7.71973184e-01]\n",
      " [4.38166062e-01 6.85018257e-01]\n",
      " [3.41749593e-01 2.86977198e-02]\n",
      " [3.38648157e-01 2.13867246e-01]\n",
      " [7.02636557e-01 9.26564198e-01]\n",
      " [1.00000000e-06 9.99999000e-01]\n",
      " [1.00000000e-06 9.99999000e-01]\n",
      " [9.99000000e-01 9.99999000e-01]]\n",
      "[-0.1121222  -0.08796286 -0.11141465 -0.03483531 -0.04800758 -0.11062091\n",
      " -0.39892551 -0.11386851 -0.13146061 -0.09418956 -0.04694741 -0.10596504\n",
      " -0.11804826 -0.03637783 -0.05675837 -0.1918191  -0.47622425]\n"
     ]
    }
   ],
   "source": [
    "print(data1)\n",
    "print(data2)"
   ]
  },
  {
   "cell_type": "code",
   "execution_count": null,
   "metadata": {},
   "outputs": [],
   "source": []
  },
  {
   "cell_type": "code",
   "execution_count": 217,
   "metadata": {
    "scrolled": false
   },
   "outputs": [
    {
     "data": {
      "text/plain": [
       "array([[1.71525207e-01, 3.43916870e-01, 2.48737201e-01],\n",
       "       [2.42114461e-01, 6.44074270e-01, 2.72432809e-01],\n",
       "       [5.34905720e-01, 3.98500915e-01, 1.73388729e-01],\n",
       "       [4.92581415e-01, 6.11593188e-01, 3.40176386e-01],\n",
       "       [1.34621666e-01, 2.19917240e-01, 4.58206220e-01],\n",
       "       [3.45523271e-01, 9.41359831e-01, 2.69363479e-01],\n",
       "       [1.51836632e-01, 4.39990619e-01, 9.90881867e-01],\n",
       "       [6.45502835e-01, 3.97142940e-01, 9.19771338e-01],\n",
       "       [7.46911945e-01, 2.84196309e-01, 2.26299855e-01],\n",
       "       [1.70476994e-01, 6.97032401e-01, 1.49169434e-01],\n",
       "       [2.20549337e-01, 2.97825244e-01, 3.43555344e-01],\n",
       "       [6.66013659e-01, 6.71985151e-01, 2.46295297e-01],\n",
       "       [4.68089497e-02, 2.31360241e-01, 7.70617592e-01],\n",
       "       [6.00097282e-01, 7.25135725e-01, 6.60886415e-02],\n",
       "       [9.65994849e-01, 8.61119690e-01, 5.66829131e-01],\n",
       "       [9.99999000e-01, 1.00000000e-06, 7.00000000e-01],\n",
       "       [9.99999000e-01, 9.99999000e-01, 9.99999000e-01],\n",
       "       [4.74747000e-01, 9.99999000e-01, 1.11000000e-02],\n",
       "       [5.55000000e-01, 5.55500000e-01, 6.66600000e-01],\n",
       "       [6.66000000e-01, 3.33300000e-01, 7.77000000e-01],\n",
       "       [3.33330000e-01, 7.77700000e-01, 5.55000000e-01]])"
      ]
     },
     "execution_count": 217,
     "metadata": {},
     "output_type": "execute_result"
    }
   ],
   "source": [
    "X3"
   ]
  },
  {
   "cell_type": "code",
   "execution_count": 218,
   "metadata": {
    "scrolled": false
   },
   "outputs": [
    {
     "data": {
      "text/plain": [
       "array([-0.1121222 , -0.08796286, -0.11141465, -0.03483531, -0.04800758,\n",
       "       -0.11062091, -0.39892551, -0.11386851, -0.13146061, -0.09418956,\n",
       "       -0.04694741, -0.10596504, -0.11804826, -0.03637783, -0.05675837,\n",
       "       -0.1918191 , -0.47622425, -0.12762136, -0.11337025, -0.10683509,\n",
       "       -0.02871441])"
      ]
     },
     "execution_count": 218,
     "metadata": {},
     "output_type": "execute_result"
    }
   ],
   "source": [
    "Y3"
   ]
  },
  {
   "cell_type": "code",
   "execution_count": 219,
   "metadata": {
    "scrolled": true
   },
   "outputs": [
    {
     "data": {
      "text/html": [
       "<style>#sk-container-id-11 {color: black;background-color: white;}#sk-container-id-11 pre{padding: 0;}#sk-container-id-11 div.sk-toggleable {background-color: white;}#sk-container-id-11 label.sk-toggleable__label {cursor: pointer;display: block;width: 100%;margin-bottom: 0;padding: 0.3em;box-sizing: border-box;text-align: center;}#sk-container-id-11 label.sk-toggleable__label-arrow:before {content: \"▸\";float: left;margin-right: 0.25em;color: #696969;}#sk-container-id-11 label.sk-toggleable__label-arrow:hover:before {color: black;}#sk-container-id-11 div.sk-estimator:hover label.sk-toggleable__label-arrow:before {color: black;}#sk-container-id-11 div.sk-toggleable__content {max-height: 0;max-width: 0;overflow: hidden;text-align: left;background-color: #f0f8ff;}#sk-container-id-11 div.sk-toggleable__content pre {margin: 0.2em;color: black;border-radius: 0.25em;background-color: #f0f8ff;}#sk-container-id-11 input.sk-toggleable__control:checked~div.sk-toggleable__content {max-height: 200px;max-width: 100%;overflow: auto;}#sk-container-id-11 input.sk-toggleable__control:checked~label.sk-toggleable__label-arrow:before {content: \"▾\";}#sk-container-id-11 div.sk-estimator input.sk-toggleable__control:checked~label.sk-toggleable__label {background-color: #d4ebff;}#sk-container-id-11 div.sk-label input.sk-toggleable__control:checked~label.sk-toggleable__label {background-color: #d4ebff;}#sk-container-id-11 input.sk-hidden--visually {border: 0;clip: rect(1px 1px 1px 1px);clip: rect(1px, 1px, 1px, 1px);height: 1px;margin: -1px;overflow: hidden;padding: 0;position: absolute;width: 1px;}#sk-container-id-11 div.sk-estimator {font-family: monospace;background-color: #f0f8ff;border: 1px dotted black;border-radius: 0.25em;box-sizing: border-box;margin-bottom: 0.5em;}#sk-container-id-11 div.sk-estimator:hover {background-color: #d4ebff;}#sk-container-id-11 div.sk-parallel-item::after {content: \"\";width: 100%;border-bottom: 1px solid gray;flex-grow: 1;}#sk-container-id-11 div.sk-label:hover label.sk-toggleable__label {background-color: #d4ebff;}#sk-container-id-11 div.sk-serial::before {content: \"\";position: absolute;border-left: 1px solid gray;box-sizing: border-box;top: 0;bottom: 0;left: 50%;z-index: 0;}#sk-container-id-11 div.sk-serial {display: flex;flex-direction: column;align-items: center;background-color: white;padding-right: 0.2em;padding-left: 0.2em;position: relative;}#sk-container-id-11 div.sk-item {position: relative;z-index: 1;}#sk-container-id-11 div.sk-parallel {display: flex;align-items: stretch;justify-content: center;background-color: white;position: relative;}#sk-container-id-11 div.sk-item::before, #sk-container-id-11 div.sk-parallel-item::before {content: \"\";position: absolute;border-left: 1px solid gray;box-sizing: border-box;top: 0;bottom: 0;left: 50%;z-index: -1;}#sk-container-id-11 div.sk-parallel-item {display: flex;flex-direction: column;z-index: 1;position: relative;background-color: white;}#sk-container-id-11 div.sk-parallel-item:first-child::after {align-self: flex-end;width: 50%;}#sk-container-id-11 div.sk-parallel-item:last-child::after {align-self: flex-start;width: 50%;}#sk-container-id-11 div.sk-parallel-item:only-child::after {width: 0;}#sk-container-id-11 div.sk-dashed-wrapped {border: 1px dashed gray;margin: 0 0.4em 0.5em 0.4em;box-sizing: border-box;padding-bottom: 0.4em;background-color: white;}#sk-container-id-11 div.sk-label label {font-family: monospace;font-weight: bold;display: inline-block;line-height: 1.2em;}#sk-container-id-11 div.sk-label-container {text-align: center;}#sk-container-id-11 div.sk-container {/* jupyter's `normalize.less` sets `[hidden] { display: none; }` but bootstrap.min.css set `[hidden] { display: none !important; }` so we also need the `!important` here to be able to override the default hidden behavior on the sphinx rendered scikit-learn.org. See: https://github.com/scikit-learn/scikit-learn/issues/21755 */display: inline-block !important;position: relative;}#sk-container-id-11 div.sk-text-repr-fallback {display: none;}</style><div id=\"sk-container-id-11\" class=\"sk-top-container\"><div class=\"sk-text-repr-fallback\"><pre>GaussianProcessRegressor()</pre><b>In a Jupyter environment, please rerun this cell to show the HTML representation or trust the notebook. <br />On GitHub, the HTML representation is unable to render, please try loading this page with nbviewer.org.</b></div><div class=\"sk-container\" hidden><div class=\"sk-item\"><div class=\"sk-estimator sk-toggleable\"><input class=\"sk-toggleable__control sk-hidden--visually\" id=\"sk-estimator-id-11\" type=\"checkbox\" checked><label for=\"sk-estimator-id-11\" class=\"sk-toggleable__label sk-toggleable__label-arrow\">GaussianProcessRegressor</label><div class=\"sk-toggleable__content\"><pre>GaussianProcessRegressor()</pre></div></div></div></div></div>"
      ],
      "text/plain": [
       "GaussianProcessRegressor()"
      ]
     },
     "execution_count": 219,
     "metadata": {},
     "output_type": "execute_result"
    }
   ],
   "source": [
    "gpr3 = GaussianProcessRegressor()\n",
    "gpr3.fit(X3, Y3)"
   ]
  },
  {
   "cell_type": "code",
   "execution_count": 220,
   "metadata": {},
   "outputs": [],
   "source": [
    "x5 = np.linspace(0, 1, 100)\n",
    "x6 = np.linspace(0, 1, 100)\n",
    "x7 = np.linspace(0, 1, 100)"
   ]
  },
  {
   "cell_type": "code",
   "execution_count": 221,
   "metadata": {},
   "outputs": [],
   "source": [
    "X_grid2 = []\n",
    "for i in range(len(x5)):\n",
    "    for j in range(len(x6)):\n",
    "        for k in range(len(x7)):\n",
    "            \n",
    "            X_grid2.append([x5[i], x6[j],x7[k]])"
   ]
  },
  {
   "cell_type": "code",
   "execution_count": 222,
   "metadata": {},
   "outputs": [],
   "source": [
    "X_grid2 = np.array(X_grid2)"
   ]
  },
  {
   "cell_type": "code",
   "execution_count": 223,
   "metadata": {
    "scrolled": false
   },
   "outputs": [
    {
     "name": "stdout",
     "output_type": "stream",
     "text": [
      "[0.37373737 0.         1.        ]\n"
     ]
    }
   ],
   "source": [
    "mean2, std2 = gpr3.predict(X_grid2, return_std = True)\n",
    "ucb2 = mean2 + 1.96 * std2\n",
    "idx_max2 = np.argmax(ucb2)\n",
    "next_query2 = X_grid2[idx_max2]\n",
    "print(next_query2)"
   ]
  },
  {
   "cell_type": "code",
   "execution_count": 229,
   "metadata": {
    "scrolled": true
   },
   "outputs": [
    {
     "data": {
      "text/plain": [
       "array([[1.94174996]])"
      ]
     },
     "execution_count": 229,
     "metadata": {},
     "output_type": "execute_result"
    }
   ],
   "source": [
    "g12=gpr3.sample_y([[0.373737, 0.000001,0.999999]], n_samples=1, random_state=0)\n",
    "g12"
   ]
  },
  {
   "cell_type": "code",
   "execution_count": 133,
   "metadata": {
    "scrolled": true
   },
   "outputs": [
    {
     "ename": "SyntaxError",
     "evalue": "invalid syntax (1528575640.py, line 1)",
     "output_type": "error",
     "traceback": [
      "\u001b[0;36m  File \u001b[0;32m\"/var/folders/0_/dj184s3x3m1524q53nk97f2w0000gn/T/ipykernel_2623/1528575640.py\"\u001b[0;36m, line \u001b[0;32m1\u001b[0m\n\u001b[0;31m    array([[0.70194284]])---> [1.         0.         0.70707071]\u001b[0m\n\u001b[0m                           ^\u001b[0m\n\u001b[0;31mSyntaxError\u001b[0m\u001b[0;31m:\u001b[0m invalid syntax\n"
     ]
    }
   ],
   "source": [
    "array([[0.70194284]])---> [1.         0.         0.70707071]"
   ]
  },
  {
   "cell_type": "code",
   "execution_count": null,
   "metadata": {},
   "outputs": [],
   "source": [
    "array([[0.70213446]])--->[[0.99999999,0.00000001,.70]],"
   ]
  },
  {
   "cell_type": "code",
   "execution_count": null,
   "metadata": {},
   "outputs": [],
   "source": [
    "array([[0.70213281]])--->[[0.99999999,0.000001,.70]],"
   ]
  },
  {
   "cell_type": "markdown",
   "metadata": {},
   "source": [
    "function 4"
   ]
  },
  {
   "cell_type": "code",
   "execution_count": 230,
   "metadata": {},
   "outputs": [
    {
     "data": {
      "text/html": [
       "<style>#sk-container-id-12 {color: black;background-color: white;}#sk-container-id-12 pre{padding: 0;}#sk-container-id-12 div.sk-toggleable {background-color: white;}#sk-container-id-12 label.sk-toggleable__label {cursor: pointer;display: block;width: 100%;margin-bottom: 0;padding: 0.3em;box-sizing: border-box;text-align: center;}#sk-container-id-12 label.sk-toggleable__label-arrow:before {content: \"▸\";float: left;margin-right: 0.25em;color: #696969;}#sk-container-id-12 label.sk-toggleable__label-arrow:hover:before {color: black;}#sk-container-id-12 div.sk-estimator:hover label.sk-toggleable__label-arrow:before {color: black;}#sk-container-id-12 div.sk-toggleable__content {max-height: 0;max-width: 0;overflow: hidden;text-align: left;background-color: #f0f8ff;}#sk-container-id-12 div.sk-toggleable__content pre {margin: 0.2em;color: black;border-radius: 0.25em;background-color: #f0f8ff;}#sk-container-id-12 input.sk-toggleable__control:checked~div.sk-toggleable__content {max-height: 200px;max-width: 100%;overflow: auto;}#sk-container-id-12 input.sk-toggleable__control:checked~label.sk-toggleable__label-arrow:before {content: \"▾\";}#sk-container-id-12 div.sk-estimator input.sk-toggleable__control:checked~label.sk-toggleable__label {background-color: #d4ebff;}#sk-container-id-12 div.sk-label input.sk-toggleable__control:checked~label.sk-toggleable__label {background-color: #d4ebff;}#sk-container-id-12 input.sk-hidden--visually {border: 0;clip: rect(1px 1px 1px 1px);clip: rect(1px, 1px, 1px, 1px);height: 1px;margin: -1px;overflow: hidden;padding: 0;position: absolute;width: 1px;}#sk-container-id-12 div.sk-estimator {font-family: monospace;background-color: #f0f8ff;border: 1px dotted black;border-radius: 0.25em;box-sizing: border-box;margin-bottom: 0.5em;}#sk-container-id-12 div.sk-estimator:hover {background-color: #d4ebff;}#sk-container-id-12 div.sk-parallel-item::after {content: \"\";width: 100%;border-bottom: 1px solid gray;flex-grow: 1;}#sk-container-id-12 div.sk-label:hover label.sk-toggleable__label {background-color: #d4ebff;}#sk-container-id-12 div.sk-serial::before {content: \"\";position: absolute;border-left: 1px solid gray;box-sizing: border-box;top: 0;bottom: 0;left: 50%;z-index: 0;}#sk-container-id-12 div.sk-serial {display: flex;flex-direction: column;align-items: center;background-color: white;padding-right: 0.2em;padding-left: 0.2em;position: relative;}#sk-container-id-12 div.sk-item {position: relative;z-index: 1;}#sk-container-id-12 div.sk-parallel {display: flex;align-items: stretch;justify-content: center;background-color: white;position: relative;}#sk-container-id-12 div.sk-item::before, #sk-container-id-12 div.sk-parallel-item::before {content: \"\";position: absolute;border-left: 1px solid gray;box-sizing: border-box;top: 0;bottom: 0;left: 50%;z-index: -1;}#sk-container-id-12 div.sk-parallel-item {display: flex;flex-direction: column;z-index: 1;position: relative;background-color: white;}#sk-container-id-12 div.sk-parallel-item:first-child::after {align-self: flex-end;width: 50%;}#sk-container-id-12 div.sk-parallel-item:last-child::after {align-self: flex-start;width: 50%;}#sk-container-id-12 div.sk-parallel-item:only-child::after {width: 0;}#sk-container-id-12 div.sk-dashed-wrapped {border: 1px dashed gray;margin: 0 0.4em 0.5em 0.4em;box-sizing: border-box;padding-bottom: 0.4em;background-color: white;}#sk-container-id-12 div.sk-label label {font-family: monospace;font-weight: bold;display: inline-block;line-height: 1.2em;}#sk-container-id-12 div.sk-label-container {text-align: center;}#sk-container-id-12 div.sk-container {/* jupyter's `normalize.less` sets `[hidden] { display: none; }` but bootstrap.min.css set `[hidden] { display: none !important; }` so we also need the `!important` here to be able to override the default hidden behavior on the sphinx rendered scikit-learn.org. See: https://github.com/scikit-learn/scikit-learn/issues/21755 */display: inline-block !important;position: relative;}#sk-container-id-12 div.sk-text-repr-fallback {display: none;}</style><div id=\"sk-container-id-12\" class=\"sk-top-container\"><div class=\"sk-text-repr-fallback\"><pre>GaussianProcessRegressor()</pre><b>In a Jupyter environment, please rerun this cell to show the HTML representation or trust the notebook. <br />On GitHub, the HTML representation is unable to render, please try loading this page with nbviewer.org.</b></div><div class=\"sk-container\" hidden><div class=\"sk-item\"><div class=\"sk-estimator sk-toggleable\"><input class=\"sk-toggleable__control sk-hidden--visually\" id=\"sk-estimator-id-12\" type=\"checkbox\" checked><label for=\"sk-estimator-id-12\" class=\"sk-toggleable__label sk-toggleable__label-arrow\">GaussianProcessRegressor</label><div class=\"sk-toggleable__content\"><pre>GaussianProcessRegressor()</pre></div></div></div></div></div>"
      ],
      "text/plain": [
       "GaussianProcessRegressor()"
      ]
     },
     "execution_count": 230,
     "metadata": {},
     "output_type": "execute_result"
    }
   ],
   "source": [
    "X4 = np.load('initial_data/function_4/initial_inputs.npy')\n",
    "Y4 = np.load('initial_data/function_4/initial_outputs.npy')\n",
    "gpr4 = GaussianProcessRegressor()\n",
    "gpr4.fit(X4, Y4)"
   ]
  },
  {
   "cell_type": "code",
   "execution_count": 153,
   "metadata": {
    "scrolled": false
   },
   "outputs": [
    {
     "name": "stdout",
     "output_type": "stream",
     "text": [
      "[[0.89698105 0.72562797 0.17540431 0.70169437]\n",
      " [0.8893564  0.49958786 0.53926886 0.50878344]\n",
      " [0.25094624 0.03369313 0.14538002 0.49493242]\n",
      " [0.34696206 0.0062504  0.76056361 0.61302356]\n",
      " [0.12487118 0.12977019 0.38440048 0.2870761 ]\n",
      " [0.80130271 0.50023109 0.70664456 0.19510284]\n",
      " [0.24770826 0.06044543 0.04218635 0.44132425]\n",
      " [0.74670224 0.7570915  0.36935306 0.20656628]\n",
      " [0.40066503 0.07257425 0.88676825 0.24384229]\n",
      " [0.6260706  0.58675126 0.43880578 0.77885769]\n",
      " [0.95713529 0.59764438 0.76611385 0.77620991]\n",
      " [0.73281243 0.14524998 0.47681272 0.13336573]\n",
      " [0.65511548 0.07239183 0.68715175 0.08151656]\n",
      " [0.21973443 0.83203134 0.48286416 0.08256923]\n",
      " [0.48859419 0.2119651  0.93917791 0.37619173]\n",
      " [0.16713049 0.87655456 0.21723954 0.95980098]\n",
      " [0.21691119 0.16608583 0.24137226 0.77006248]\n",
      " [0.38748784 0.80453226 0.75179548 0.72382744]\n",
      " [0.98562189 0.66693268 0.15678328 0.8565348 ]\n",
      " [0.03782483 0.66485335 0.16198218 0.25392378]\n",
      " [0.68348638 0.9027701  0.33541983 0.99948256]\n",
      " [0.17034731 0.75695908 0.27652049 0.5312315 ]\n",
      " [0.85965692 0.91959232 0.20613873 0.09779683]\n",
      " [0.28213837 0.50598691 0.53053084 0.09630162]\n",
      " [0.32607578 0.4723669  0.453192   0.10588734]\n",
      " [0.94838936 0.89451301 0.85163782 0.55219629]\n",
      " [0.66495539 0.04656628 0.11677747 0.79371778]\n",
      " [0.57776561 0.42877174 0.42582587 0.24900741]\n",
      " [0.73861301 0.48210263 0.70936644 0.50397001]\n",
      " [0.8548108  0.49396462 0.73530997 0.80809201]\n",
      " [0.430379   0.379746   0.35443    0.417721  ]\n",
      " [0.405063   0.379746   0.316457   0.443037  ]\n",
      " [0.35443    0.333772   0.631645   0.443037  ]\n",
      " [0.379746   0.11111    0.518987   0.2222    ]\n",
      " [0.52322    0.4632     0.63285    0.7631    ]\n",
      " [0.7631     0.52322    0.63285    0.4632    ]]\n",
      "[-22.10828779 -14.60139663 -11.69993246 -16.05376511 -10.06963343\n",
      " -15.48708254 -12.68168498 -16.02639977 -17.04923465 -12.74176599\n",
      " -27.31639636 -13.52764887 -16.6791152  -16.50715856 -17.81799934\n",
      " -26.56182083 -12.75832422 -19.44155762 -28.90327367 -13.70274694\n",
      " -29.4270914  -11.56574199 -26.85778644  -7.96677535  -6.70208925\n",
      " -32.62566022 -19.98949793  -4.02554228 -13.12278233 -23.1394284\n",
      "   0.5777079   -0.63120362  -4.38766046  -8.09976252 -11.99051195\n",
      " -11.99051195]\n"
     ]
    }
   ],
   "source": [
    "arr1 = np.array([[0.7631,  0.52322, 0.63285, 0.4632  ]])\n",
    "\n",
    "#[0.379746 0.11111  0.518987 0.2222  ]\n",
    "#[0.52322 0.4632  0.63285 0.7631 ]\n",
    "#[0.7631  0.52322 0.63285 0.4632 ]\n",
    "#[0.430379 0.379746 0.35443  0.417721]\n",
    "#0.405063 0.379746 0.316457 0.443037\n",
    "#0.35443  0.333772 0.631645 0.443037\n",
    "arr2= np.array([-11.990511954832100])\n",
    "\n",
    "\n",
    "#-8.099762515981870\n",
    "#-11.990511954832100\n",
    "#-11.990511954832100\n",
    "#0.5777078964311150\n",
    "#-0.631203615645102\n",
    "#-4.38766046308537\n",
    "\n",
    "filename1 = 'initial_data/function_4/initial_inputs.npy'\n",
    "filename2 = 'initial_data/function_4/initial_outputs.npy'\n",
    "\n",
    "with NpyAppendArray(filename1) as npaa:\n",
    "    npaa.append(arr1)\n",
    "    #npaa.append(arr2)\n",
    "    #npaa.append(arr2)\n",
    "    \n",
    "data1 = np.load(filename1, mmap_mode=\"r\")\n",
    "with NpyAppendArray(filename2) as npaa1:\n",
    "    npaa1.append(arr2)\n",
    "    #npaa.append(arr2)\n",
    "    #npaa.append(arr2)\n",
    "    \n",
    "data2 = np.load(filename2, mmap_mode=\"r\")\n",
    "\n",
    "print(data1)\n",
    "print(data2)"
   ]
  },
  {
   "cell_type": "code",
   "execution_count": 231,
   "metadata": {
    "scrolled": false
   },
   "outputs": [
    {
     "data": {
      "text/plain": [
       "array([[0.89698105, 0.72562797, 0.17540431, 0.70169437],\n",
       "       [0.8893564 , 0.49958786, 0.53926886, 0.50878344],\n",
       "       [0.25094624, 0.03369313, 0.14538002, 0.49493242],\n",
       "       [0.34696206, 0.0062504 , 0.76056361, 0.61302356],\n",
       "       [0.12487118, 0.12977019, 0.38440048, 0.2870761 ],\n",
       "       [0.80130271, 0.50023109, 0.70664456, 0.19510284],\n",
       "       [0.24770826, 0.06044543, 0.04218635, 0.44132425],\n",
       "       [0.74670224, 0.7570915 , 0.36935306, 0.20656628],\n",
       "       [0.40066503, 0.07257425, 0.88676825, 0.24384229],\n",
       "       [0.6260706 , 0.58675126, 0.43880578, 0.77885769],\n",
       "       [0.95713529, 0.59764438, 0.76611385, 0.77620991],\n",
       "       [0.73281243, 0.14524998, 0.47681272, 0.13336573],\n",
       "       [0.65511548, 0.07239183, 0.68715175, 0.08151656],\n",
       "       [0.21973443, 0.83203134, 0.48286416, 0.08256923],\n",
       "       [0.48859419, 0.2119651 , 0.93917791, 0.37619173],\n",
       "       [0.16713049, 0.87655456, 0.21723954, 0.95980098],\n",
       "       [0.21691119, 0.16608583, 0.24137226, 0.77006248],\n",
       "       [0.38748784, 0.80453226, 0.75179548, 0.72382744],\n",
       "       [0.98562189, 0.66693268, 0.15678328, 0.8565348 ],\n",
       "       [0.03782483, 0.66485335, 0.16198218, 0.25392378],\n",
       "       [0.68348638, 0.9027701 , 0.33541983, 0.99948256],\n",
       "       [0.17034731, 0.75695908, 0.27652049, 0.5312315 ],\n",
       "       [0.85965692, 0.91959232, 0.20613873, 0.09779683],\n",
       "       [0.28213837, 0.50598691, 0.53053084, 0.09630162],\n",
       "       [0.32607578, 0.4723669 , 0.453192  , 0.10588734],\n",
       "       [0.94838936, 0.89451301, 0.85163782, 0.55219629],\n",
       "       [0.66495539, 0.04656628, 0.11677747, 0.79371778],\n",
       "       [0.57776561, 0.42877174, 0.42582587, 0.24900741],\n",
       "       [0.73861301, 0.48210263, 0.70936644, 0.50397001],\n",
       "       [0.8548108 , 0.49396462, 0.73530997, 0.80809201],\n",
       "       [0.430379  , 0.379746  , 0.35443   , 0.417721  ],\n",
       "       [0.405063  , 0.379746  , 0.316457  , 0.443037  ],\n",
       "       [0.35443   , 0.333772  , 0.631645  , 0.443037  ],\n",
       "       [0.379746  , 0.11111   , 0.518987  , 0.2222    ],\n",
       "       [0.52322   , 0.4632    , 0.63285   , 0.7631    ],\n",
       "       [0.7631    , 0.52322   , 0.63285   , 0.4632    ]])"
      ]
     },
     "execution_count": 231,
     "metadata": {},
     "output_type": "execute_result"
    }
   ],
   "source": [
    "X4"
   ]
  },
  {
   "cell_type": "code",
   "execution_count": 232,
   "metadata": {
    "scrolled": true
   },
   "outputs": [
    {
     "data": {
      "text/plain": [
       "array([-22.10828779, -14.60139663, -11.69993246, -16.05376511,\n",
       "       -10.06963343, -15.48708254, -12.68168498, -16.02639977,\n",
       "       -17.04923465, -12.74176599, -27.31639636, -13.52764887,\n",
       "       -16.6791152 , -16.50715856, -17.81799934, -26.56182083,\n",
       "       -12.75832422, -19.44155762, -28.90327367, -13.70274694,\n",
       "       -29.4270914 , -11.56574199, -26.85778644,  -7.96677535,\n",
       "        -6.70208925, -32.62566022, -19.98949793,  -4.02554228,\n",
       "       -13.12278233, -23.1394284 ,   0.5777079 ,  -0.63120362,\n",
       "        -4.38766046,  -8.09976252, -11.99051195, -11.99051195])"
      ]
     },
     "execution_count": 232,
     "metadata": {},
     "output_type": "execute_result"
    }
   ],
   "source": [
    "Y4"
   ]
  },
  {
   "cell_type": "code",
   "execution_count": 233,
   "metadata": {},
   "outputs": [],
   "source": [
    "x8 = np.linspace(0, 1, 80)\n",
    "x9 = np.linspace(0, 1, 80)\n",
    "x10 = np.linspace(0, 1, 80)\n",
    "x11 = np.linspace(0, 1, 80)"
   ]
  },
  {
   "cell_type": "code",
   "execution_count": 234,
   "metadata": {},
   "outputs": [],
   "source": [
    "X_grid3 = []\n",
    "for i in range(len(x8)):\n",
    "    for j in range(len(x9)):\n",
    "        for k in range(len(x10)):\n",
    "            for l in range(len(x11)):\n",
    "            \n",
    "                X_grid3.append([x8[i], x9[j],x10[k],x11[l]])"
   ]
  },
  {
   "cell_type": "code",
   "execution_count": 235,
   "metadata": {},
   "outputs": [],
   "source": [
    "X_grid3 = np.array(X_grid3)"
   ]
  },
  {
   "cell_type": "code",
   "execution_count": 238,
   "metadata": {
    "scrolled": true
   },
   "outputs": [
    {
     "name": "stdout",
     "output_type": "stream",
     "text": [
      "[1.        0.        1.        0.3164557]\n"
     ]
    }
   ],
   "source": [
    "mean3, std3 = gpr4.predict(X_grid3, return_std = True)\n",
    "ucb3 = mean3 + 1.96 * std3\n",
    "idx_max3 = np.argmax(ucb3)\n",
    "next_query3 = X_grid3[idx_max3]\n",
    "print(next_query3)"
   ]
  },
  {
   "cell_type": "code",
   "execution_count": 243,
   "metadata": {},
   "outputs": [
    {
     "data": {
      "text/plain": [
       "array([[20.57905512]])"
      ]
     },
     "execution_count": 243,
     "metadata": {},
     "output_type": "execute_result"
    }
   ],
   "source": [
    "g13=gpr4.sample_y([[0.999999,0.0000001,0.999999,0.3164557]], n_samples=1, random_state=0)\n",
    "g13"
   ]
  },
  {
   "cell_type": "code",
   "execution_count": 240,
   "metadata": {
    "scrolled": true
   },
   "outputs": [
    {
     "data": {
      "text/plain": [
       "array([[-4.38767]])"
      ]
     },
     "execution_count": 240,
     "metadata": {},
     "output_type": "execute_result"
    }
   ],
   "source": [
    "g13=gpr4.sample_y([[0.35443038, 0.33377215, 0.63164557, 0.44303797]], n_samples=1, random_state=0)\n",
    "g13"
   ]
  },
  {
   "cell_type": "code",
   "execution_count": null,
   "metadata": {},
   "outputs": [],
   "source": [
    "array([[-1.01219648]])-->[0.43037975 0.37974684 0.35443038 0.41772152]"
   ]
  },
  {
   "cell_type": "code",
   "execution_count": null,
   "metadata": {},
   "outputs": [],
   "source": [
    "array([[-1.01171876]])-[0.43037975, 0.37974684, 0.363038, 0.41772152]"
   ]
  },
  {
   "cell_type": "code",
   "execution_count": null,
   "metadata": {},
   "outputs": [],
   "source": [
    "array([[-1.0111841]])--[0.43037975, 0.37974684, 0.360000, 0.41772152]"
   ]
  },
  {
   "cell_type": "code",
   "execution_count": null,
   "metadata": {},
   "outputs": [],
   "source": [
    "array([[-1.01118405]])--[0.43037975, 0.37974684, 0.359999, 0.41772152]]"
   ]
  },
  {
   "cell_type": "code",
   "execution_count": null,
   "metadata": {},
   "outputs": [],
   "source": [
    "array([[-1.01118062]])->[0.43037975, 0.37974684, 0.358888, 0.41772152]"
   ]
  },
  {
   "cell_type": "code",
   "execution_count": null,
   "metadata": {},
   "outputs": [],
   "source": [
    "array([[-1.01070518]])-->[0.42037975, 0.37974684, 0.358888, 0.41772152]"
   ]
  },
  {
   "cell_type": "code",
   "execution_count": null,
   "metadata": {},
   "outputs": [],
   "source": [
    "array([[-1.01028954]])-->[0.42037975, 0.37974684, 0.358888, 0.40772152] for 4d"
   ]
  },
  {
   "cell_type": "markdown",
   "metadata": {},
   "source": [
    "fuunction 5"
   ]
  },
  {
   "cell_type": "code",
   "execution_count": 244,
   "metadata": {},
   "outputs": [
    {
     "data": {
      "text/html": [
       "<style>#sk-container-id-13 {color: black;background-color: white;}#sk-container-id-13 pre{padding: 0;}#sk-container-id-13 div.sk-toggleable {background-color: white;}#sk-container-id-13 label.sk-toggleable__label {cursor: pointer;display: block;width: 100%;margin-bottom: 0;padding: 0.3em;box-sizing: border-box;text-align: center;}#sk-container-id-13 label.sk-toggleable__label-arrow:before {content: \"▸\";float: left;margin-right: 0.25em;color: #696969;}#sk-container-id-13 label.sk-toggleable__label-arrow:hover:before {color: black;}#sk-container-id-13 div.sk-estimator:hover label.sk-toggleable__label-arrow:before {color: black;}#sk-container-id-13 div.sk-toggleable__content {max-height: 0;max-width: 0;overflow: hidden;text-align: left;background-color: #f0f8ff;}#sk-container-id-13 div.sk-toggleable__content pre {margin: 0.2em;color: black;border-radius: 0.25em;background-color: #f0f8ff;}#sk-container-id-13 input.sk-toggleable__control:checked~div.sk-toggleable__content {max-height: 200px;max-width: 100%;overflow: auto;}#sk-container-id-13 input.sk-toggleable__control:checked~label.sk-toggleable__label-arrow:before {content: \"▾\";}#sk-container-id-13 div.sk-estimator input.sk-toggleable__control:checked~label.sk-toggleable__label {background-color: #d4ebff;}#sk-container-id-13 div.sk-label input.sk-toggleable__control:checked~label.sk-toggleable__label {background-color: #d4ebff;}#sk-container-id-13 input.sk-hidden--visually {border: 0;clip: rect(1px 1px 1px 1px);clip: rect(1px, 1px, 1px, 1px);height: 1px;margin: -1px;overflow: hidden;padding: 0;position: absolute;width: 1px;}#sk-container-id-13 div.sk-estimator {font-family: monospace;background-color: #f0f8ff;border: 1px dotted black;border-radius: 0.25em;box-sizing: border-box;margin-bottom: 0.5em;}#sk-container-id-13 div.sk-estimator:hover {background-color: #d4ebff;}#sk-container-id-13 div.sk-parallel-item::after {content: \"\";width: 100%;border-bottom: 1px solid gray;flex-grow: 1;}#sk-container-id-13 div.sk-label:hover label.sk-toggleable__label {background-color: #d4ebff;}#sk-container-id-13 div.sk-serial::before {content: \"\";position: absolute;border-left: 1px solid gray;box-sizing: border-box;top: 0;bottom: 0;left: 50%;z-index: 0;}#sk-container-id-13 div.sk-serial {display: flex;flex-direction: column;align-items: center;background-color: white;padding-right: 0.2em;padding-left: 0.2em;position: relative;}#sk-container-id-13 div.sk-item {position: relative;z-index: 1;}#sk-container-id-13 div.sk-parallel {display: flex;align-items: stretch;justify-content: center;background-color: white;position: relative;}#sk-container-id-13 div.sk-item::before, #sk-container-id-13 div.sk-parallel-item::before {content: \"\";position: absolute;border-left: 1px solid gray;box-sizing: border-box;top: 0;bottom: 0;left: 50%;z-index: -1;}#sk-container-id-13 div.sk-parallel-item {display: flex;flex-direction: column;z-index: 1;position: relative;background-color: white;}#sk-container-id-13 div.sk-parallel-item:first-child::after {align-self: flex-end;width: 50%;}#sk-container-id-13 div.sk-parallel-item:last-child::after {align-self: flex-start;width: 50%;}#sk-container-id-13 div.sk-parallel-item:only-child::after {width: 0;}#sk-container-id-13 div.sk-dashed-wrapped {border: 1px dashed gray;margin: 0 0.4em 0.5em 0.4em;box-sizing: border-box;padding-bottom: 0.4em;background-color: white;}#sk-container-id-13 div.sk-label label {font-family: monospace;font-weight: bold;display: inline-block;line-height: 1.2em;}#sk-container-id-13 div.sk-label-container {text-align: center;}#sk-container-id-13 div.sk-container {/* jupyter's `normalize.less` sets `[hidden] { display: none; }` but bootstrap.min.css set `[hidden] { display: none !important; }` so we also need the `!important` here to be able to override the default hidden behavior on the sphinx rendered scikit-learn.org. See: https://github.com/scikit-learn/scikit-learn/issues/21755 */display: inline-block !important;position: relative;}#sk-container-id-13 div.sk-text-repr-fallback {display: none;}</style><div id=\"sk-container-id-13\" class=\"sk-top-container\"><div class=\"sk-text-repr-fallback\"><pre>GaussianProcessRegressor()</pre><b>In a Jupyter environment, please rerun this cell to show the HTML representation or trust the notebook. <br />On GitHub, the HTML representation is unable to render, please try loading this page with nbviewer.org.</b></div><div class=\"sk-container\" hidden><div class=\"sk-item\"><div class=\"sk-estimator sk-toggleable\"><input class=\"sk-toggleable__control sk-hidden--visually\" id=\"sk-estimator-id-13\" type=\"checkbox\" checked><label for=\"sk-estimator-id-13\" class=\"sk-toggleable__label sk-toggleable__label-arrow\">GaussianProcessRegressor</label><div class=\"sk-toggleable__content\"><pre>GaussianProcessRegressor()</pre></div></div></div></div></div>"
      ],
      "text/plain": [
       "GaussianProcessRegressor()"
      ]
     },
     "execution_count": 244,
     "metadata": {},
     "output_type": "execute_result"
    }
   ],
   "source": [
    "X5 = np.load('initial_data/function_5/initial_inputs.npy')\n",
    "Y5 = np.load('initial_data/function_5/initial_outputs.npy')\n",
    "gpr5 = GaussianProcessRegressor()\n",
    "gpr5.fit(X5, Y5)"
   ]
  },
  {
   "cell_type": "code",
   "execution_count": 154,
   "metadata": {
    "scrolled": false
   },
   "outputs": [
    {
     "name": "stdout",
     "output_type": "stream",
     "text": [
      "[[1.91447084e-01 3.81933714e-02 6.07417811e-01 4.14584137e-01]\n",
      " [7.58652949e-01 5.36517738e-01 6.56000382e-01 3.60341553e-01]\n",
      " [4.38349873e-01 8.04339705e-01 2.10245266e-01 1.51294816e-01]\n",
      " [7.06050834e-01 5.34191961e-01 2.64243345e-01 4.82087549e-01]\n",
      " [8.36477993e-01 1.93609647e-01 6.63892697e-01 7.85648883e-01]\n",
      " [6.83432250e-01 1.18662642e-01 8.29045910e-01 5.67576606e-01]\n",
      " [5.53621480e-01 6.67349979e-01 3.23805819e-01 8.14869754e-01]\n",
      " [3.52356269e-01 3.22241532e-01 1.16979368e-01 4.73112522e-01]\n",
      " [1.53785706e-01 7.29381690e-01 4.22598437e-01 4.43074166e-01]\n",
      " [4.63442267e-01 6.30024510e-01 1.07906456e-01 9.57643899e-01]\n",
      " [6.77491148e-01 3.58509507e-01 4.79592224e-01 7.28804811e-02]\n",
      " [5.83973412e-01 1.47242646e-01 3.48097462e-01 4.28614651e-01]\n",
      " [3.06888719e-01 3.16878127e-01 6.22634481e-01 9.53990581e-02]\n",
      " [5.11141775e-01 8.17956997e-01 7.28710418e-01 1.12353623e-01]\n",
      " [4.38933376e-01 7.74091762e-01 3.78167086e-01 9.33696207e-01]\n",
      " [2.24189023e-01 8.46480490e-01 8.79484180e-01 8.78515684e-01]\n",
      " [7.25261723e-01 4.79870486e-01 8.89468426e-02 7.59760220e-01]\n",
      " [3.55481610e-01 6.39619367e-01 4.17617679e-01 1.22603840e-01]\n",
      " [1.19879226e-01 8.62540306e-01 6.43331326e-01 8.49803829e-01]\n",
      " [1.26884670e-01 1.53429621e-01 7.70162188e-01 1.90518105e-01]\n",
      " [6.48000000e-01 9.99999000e-01 9.99999000e-01 9.99999000e-01]\n",
      " [9.99999000e-01 9.99999000e-01 9.99999000e-01 9.99999000e-01]\n",
      " [9.99999000e-01 7.77000000e-01 7.77000000e-01 9.99999000e-01]\n",
      " [9.99999000e-01 9.99999000e-01 9.99999000e-01 1.00000000e-06]]\n",
      "[6.44434399e+01 1.83013796e+01 1.12939795e-01 4.21089813e+00\n",
      " 2.58370525e+02 7.84343889e+01 5.75715369e+01 1.09571876e+02\n",
      " 8.84799176e+00 2.33223610e+02 2.44230883e+01 6.44201468e+01\n",
      " 6.34767158e+01 7.97291299e+01 3.55806818e+02 1.08885962e+03\n",
      " 2.88667516e+01 4.51815703e+01 4.31612757e+02 9.97233189e+00\n",
      " 5.10686098e+03 8.66240500e+03 3.58006278e+03 4.44023112e+03]\n"
     ]
    }
   ],
   "source": [
    "arr1 = np.array([[0.999999,0.999999, 0.999999, 0.000001]])\n",
    "\n",
    "#[9.99990e-01 9.99990e-01 9.99999e-01 1.00000e-06]\n",
    "#[0.45455  0.656667 0.320001 0.1     ]\n",
    "#[0.8325  0.5432  0.765   0.87111]\n",
    "\n",
    "arr2= np.array([4440.231122511820])\n",
    "\n",
    "#4440.231122511820\n",
    "#36.58428895357630\n",
    "#743.58558463969\n",
    "#0.5777078964311150\n",
    "#[0.648    0.999999 0.999999 0.999999]\n",
    "#0.999999 0.777    0.777    0.999999\n",
    "#5106.860978590750\n",
    "#0.999999 0.999999 0.999999 0.999999\n",
    "#8662.4050012483\n",
    "#3580.06278026163\n",
    "\n",
    "filename1 = 'initial_data/function_5/initial_inputs.npy'\n",
    "filename2 = 'initial_data/function_5/initial_outputs.npy'\n",
    "\n",
    "with NpyAppendArray(filename1) as npaa:\n",
    "    npaa.append(arr1)\n",
    "    #npaa.append(arr2)\n",
    "    #npaa.append(arr2)\n",
    "    \n",
    "data1 = np.load(filename1, mmap_mode=\"r\")\n",
    "with NpyAppendArray(filename2) as npaa1:\n",
    "    npaa1.append(arr2)\n",
    "    #npaa.append(arr2)\n",
    "    #npaa.append(arr2)\n",
    "    \n",
    "data2 = np.load(filename2, mmap_mode=\"r\")\n",
    "\n",
    "print(data1)\n",
    "print(data2)"
   ]
  },
  {
   "cell_type": "code",
   "execution_count": 245,
   "metadata": {
    "scrolled": false
   },
   "outputs": [
    {
     "data": {
      "text/plain": [
       "array([[1.91447084e-01, 3.81933714e-02, 6.07417811e-01, 4.14584137e-01],\n",
       "       [7.58652949e-01, 5.36517738e-01, 6.56000382e-01, 3.60341553e-01],\n",
       "       [4.38349873e-01, 8.04339705e-01, 2.10245266e-01, 1.51294816e-01],\n",
       "       [7.06050834e-01, 5.34191961e-01, 2.64243345e-01, 4.82087549e-01],\n",
       "       [8.36477993e-01, 1.93609647e-01, 6.63892697e-01, 7.85648883e-01],\n",
       "       [6.83432250e-01, 1.18662642e-01, 8.29045910e-01, 5.67576606e-01],\n",
       "       [5.53621480e-01, 6.67349979e-01, 3.23805819e-01, 8.14869754e-01],\n",
       "       [3.52356269e-01, 3.22241532e-01, 1.16979368e-01, 4.73112522e-01],\n",
       "       [1.53785706e-01, 7.29381690e-01, 4.22598437e-01, 4.43074166e-01],\n",
       "       [4.63442267e-01, 6.30024510e-01, 1.07906456e-01, 9.57643899e-01],\n",
       "       [6.77491148e-01, 3.58509507e-01, 4.79592224e-01, 7.28804811e-02],\n",
       "       [5.83973412e-01, 1.47242646e-01, 3.48097462e-01, 4.28614651e-01],\n",
       "       [3.06888719e-01, 3.16878127e-01, 6.22634481e-01, 9.53990581e-02],\n",
       "       [5.11141775e-01, 8.17956997e-01, 7.28710418e-01, 1.12353623e-01],\n",
       "       [4.38933376e-01, 7.74091762e-01, 3.78167086e-01, 9.33696207e-01],\n",
       "       [2.24189023e-01, 8.46480490e-01, 8.79484180e-01, 8.78515684e-01],\n",
       "       [7.25261723e-01, 4.79870486e-01, 8.89468426e-02, 7.59760220e-01],\n",
       "       [3.55481610e-01, 6.39619367e-01, 4.17617679e-01, 1.22603840e-01],\n",
       "       [1.19879226e-01, 8.62540306e-01, 6.43331326e-01, 8.49803829e-01],\n",
       "       [1.26884670e-01, 1.53429621e-01, 7.70162188e-01, 1.90518105e-01],\n",
       "       [6.48000000e-01, 9.99999000e-01, 9.99999000e-01, 9.99999000e-01],\n",
       "       [9.99999000e-01, 9.99999000e-01, 9.99999000e-01, 9.99999000e-01],\n",
       "       [9.99999000e-01, 7.77000000e-01, 7.77000000e-01, 9.99999000e-01],\n",
       "       [9.99999000e-01, 9.99999000e-01, 9.99999000e-01, 1.00000000e-06]])"
      ]
     },
     "execution_count": 245,
     "metadata": {},
     "output_type": "execute_result"
    }
   ],
   "source": [
    "X5"
   ]
  },
  {
   "cell_type": "code",
   "execution_count": 246,
   "metadata": {
    "scrolled": true
   },
   "outputs": [
    {
     "data": {
      "text/plain": [
       "array([6.44434399e+01, 1.83013796e+01, 1.12939795e-01, 4.21089813e+00,\n",
       "       2.58370525e+02, 7.84343889e+01, 5.75715369e+01, 1.09571876e+02,\n",
       "       8.84799176e+00, 2.33223610e+02, 2.44230883e+01, 6.44201468e+01,\n",
       "       6.34767158e+01, 7.97291299e+01, 3.55806818e+02, 1.08885962e+03,\n",
       "       2.88667516e+01, 4.51815703e+01, 4.31612757e+02, 9.97233189e+00,\n",
       "       5.10686098e+03, 8.66240500e+03, 3.58006278e+03, 4.44023112e+03])"
      ]
     },
     "execution_count": 246,
     "metadata": {},
     "output_type": "execute_result"
    }
   ],
   "source": [
    "Y5"
   ]
  },
  {
   "cell_type": "code",
   "execution_count": 247,
   "metadata": {},
   "outputs": [],
   "source": [
    "x12 = np.linspace(0, 1, 50)\n",
    "x13= np.linspace(0, 1, 50)\n",
    "x14 = np.linspace(0, 1, 50)\n",
    "x15 = np.linspace(0, 1, 50)\n",
    "#x16 = np.linspace(0, 1, 20)"
   ]
  },
  {
   "cell_type": "code",
   "execution_count": 157,
   "metadata": {},
   "outputs": [],
   "source": [
    "x1 = np.linspace(0, 1, 50)"
   ]
  },
  {
   "cell_type": "code",
   "execution_count": 6,
   "metadata": {},
   "outputs": [],
   "source": [
    "import itertools as it"
   ]
  },
  {
   "cell_type": "code",
   "execution_count": null,
   "metadata": {},
   "outputs": [],
   "source": [
    "dim = 5\n",
    "X_grid4 = np.fromiter(it.chain(*it.product(x1, repeat=dim)), dtype=float).reshape(-1,dim)"
   ]
  },
  {
   "cell_type": "code",
   "execution_count": null,
   "metadata": {},
   "outputs": [],
   "source": []
  },
  {
   "cell_type": "code",
   "execution_count": null,
   "metadata": {},
   "outputs": [],
   "source": []
  },
  {
   "cell_type": "code",
   "execution_count": 248,
   "metadata": {},
   "outputs": [],
   "source": [
    "X_grid4 = []\n",
    "for i in range(len(x12)):\n",
    "    for j in range(len(x13)):\n",
    "        for k in range(len(x14)):\n",
    "            for l in range(len(x15)):\n",
    "              #  for m in range(len(x16)):\n",
    "            \n",
    "                X_grid4.append([x12[i], x13[j],x14[k],x15[l]])"
   ]
  },
  {
   "cell_type": "code",
   "execution_count": 249,
   "metadata": {},
   "outputs": [
    {
     "name": "stdout",
     "output_type": "stream",
     "text": [
      "[1. 1. 1. 1.]\n"
     ]
    }
   ],
   "source": [
    "X_grid4 = np.array(X_grid4)\n",
    "mean4, std4 = gpr5.predict(X_grid4, return_std = True)\n",
    "ucb4 = mean4 + 1.96 * std4\n",
    "idx_max4 = np.argmax(ucb4)\n",
    "next_query4 = X_grid4[idx_max4]\n",
    "print(next_query4)"
   ]
  },
  {
   "cell_type": "code",
   "execution_count": 251,
   "metadata": {},
   "outputs": [
    {
     "data": {
      "text/plain": [
       "array([[8662.40498465]])"
      ]
     },
     "execution_count": 251,
     "metadata": {},
     "output_type": "execute_result"
    }
   ],
   "source": [
    "g14=gpr5.sample_y([[0.999999, .999999,.999999,.999999]], n_samples=1, random_state=0)\n",
    "g14"
   ]
  },
  {
   "cell_type": "code",
   "execution_count": null,
   "metadata": {},
   "outputs": [],
   "source": [
    "\n",
    "array([[2244.74030142]])->[0.65306122, 1.,1.,1.]"
   ]
  },
  {
   "cell_type": "code",
   "execution_count": null,
   "metadata": {},
   "outputs": [],
   "source": [
    "array([[2244.76529402]])-->[[0.645, .999999,.999999,.999999]]"
   ]
  },
  {
   "cell_type": "code",
   "execution_count": null,
   "metadata": {},
   "outputs": [],
   "source": [
    "array([[2244.78277613]])-->[0.648, .999999,.999999,.999999]"
   ]
  },
  {
   "cell_type": "markdown",
   "metadata": {},
   "source": [
    "function6"
   ]
  },
  {
   "cell_type": "code",
   "execution_count": 252,
   "metadata": {},
   "outputs": [
    {
     "data": {
      "text/html": [
       "<style>#sk-container-id-14 {color: black;background-color: white;}#sk-container-id-14 pre{padding: 0;}#sk-container-id-14 div.sk-toggleable {background-color: white;}#sk-container-id-14 label.sk-toggleable__label {cursor: pointer;display: block;width: 100%;margin-bottom: 0;padding: 0.3em;box-sizing: border-box;text-align: center;}#sk-container-id-14 label.sk-toggleable__label-arrow:before {content: \"▸\";float: left;margin-right: 0.25em;color: #696969;}#sk-container-id-14 label.sk-toggleable__label-arrow:hover:before {color: black;}#sk-container-id-14 div.sk-estimator:hover label.sk-toggleable__label-arrow:before {color: black;}#sk-container-id-14 div.sk-toggleable__content {max-height: 0;max-width: 0;overflow: hidden;text-align: left;background-color: #f0f8ff;}#sk-container-id-14 div.sk-toggleable__content pre {margin: 0.2em;color: black;border-radius: 0.25em;background-color: #f0f8ff;}#sk-container-id-14 input.sk-toggleable__control:checked~div.sk-toggleable__content {max-height: 200px;max-width: 100%;overflow: auto;}#sk-container-id-14 input.sk-toggleable__control:checked~label.sk-toggleable__label-arrow:before {content: \"▾\";}#sk-container-id-14 div.sk-estimator input.sk-toggleable__control:checked~label.sk-toggleable__label {background-color: #d4ebff;}#sk-container-id-14 div.sk-label input.sk-toggleable__control:checked~label.sk-toggleable__label {background-color: #d4ebff;}#sk-container-id-14 input.sk-hidden--visually {border: 0;clip: rect(1px 1px 1px 1px);clip: rect(1px, 1px, 1px, 1px);height: 1px;margin: -1px;overflow: hidden;padding: 0;position: absolute;width: 1px;}#sk-container-id-14 div.sk-estimator {font-family: monospace;background-color: #f0f8ff;border: 1px dotted black;border-radius: 0.25em;box-sizing: border-box;margin-bottom: 0.5em;}#sk-container-id-14 div.sk-estimator:hover {background-color: #d4ebff;}#sk-container-id-14 div.sk-parallel-item::after {content: \"\";width: 100%;border-bottom: 1px solid gray;flex-grow: 1;}#sk-container-id-14 div.sk-label:hover label.sk-toggleable__label {background-color: #d4ebff;}#sk-container-id-14 div.sk-serial::before {content: \"\";position: absolute;border-left: 1px solid gray;box-sizing: border-box;top: 0;bottom: 0;left: 50%;z-index: 0;}#sk-container-id-14 div.sk-serial {display: flex;flex-direction: column;align-items: center;background-color: white;padding-right: 0.2em;padding-left: 0.2em;position: relative;}#sk-container-id-14 div.sk-item {position: relative;z-index: 1;}#sk-container-id-14 div.sk-parallel {display: flex;align-items: stretch;justify-content: center;background-color: white;position: relative;}#sk-container-id-14 div.sk-item::before, #sk-container-id-14 div.sk-parallel-item::before {content: \"\";position: absolute;border-left: 1px solid gray;box-sizing: border-box;top: 0;bottom: 0;left: 50%;z-index: -1;}#sk-container-id-14 div.sk-parallel-item {display: flex;flex-direction: column;z-index: 1;position: relative;background-color: white;}#sk-container-id-14 div.sk-parallel-item:first-child::after {align-self: flex-end;width: 50%;}#sk-container-id-14 div.sk-parallel-item:last-child::after {align-self: flex-start;width: 50%;}#sk-container-id-14 div.sk-parallel-item:only-child::after {width: 0;}#sk-container-id-14 div.sk-dashed-wrapped {border: 1px dashed gray;margin: 0 0.4em 0.5em 0.4em;box-sizing: border-box;padding-bottom: 0.4em;background-color: white;}#sk-container-id-14 div.sk-label label {font-family: monospace;font-weight: bold;display: inline-block;line-height: 1.2em;}#sk-container-id-14 div.sk-label-container {text-align: center;}#sk-container-id-14 div.sk-container {/* jupyter's `normalize.less` sets `[hidden] { display: none; }` but bootstrap.min.css set `[hidden] { display: none !important; }` so we also need the `!important` here to be able to override the default hidden behavior on the sphinx rendered scikit-learn.org. See: https://github.com/scikit-learn/scikit-learn/issues/21755 */display: inline-block !important;position: relative;}#sk-container-id-14 div.sk-text-repr-fallback {display: none;}</style><div id=\"sk-container-id-14\" class=\"sk-top-container\"><div class=\"sk-text-repr-fallback\"><pre>GaussianProcessRegressor()</pre><b>In a Jupyter environment, please rerun this cell to show the HTML representation or trust the notebook. <br />On GitHub, the HTML representation is unable to render, please try loading this page with nbviewer.org.</b></div><div class=\"sk-container\" hidden><div class=\"sk-item\"><div class=\"sk-estimator sk-toggleable\"><input class=\"sk-toggleable__control sk-hidden--visually\" id=\"sk-estimator-id-14\" type=\"checkbox\" checked><label for=\"sk-estimator-id-14\" class=\"sk-toggleable__label sk-toggleable__label-arrow\">GaussianProcessRegressor</label><div class=\"sk-toggleable__content\"><pre>GaussianProcessRegressor()</pre></div></div></div></div></div>"
      ],
      "text/plain": [
       "GaussianProcessRegressor()"
      ]
     },
     "execution_count": 252,
     "metadata": {},
     "output_type": "execute_result"
    }
   ],
   "source": [
    "X6 = np.load('initial_data/function_6/initial_inputs.npy')\n",
    "Y6 = np.load('initial_data/function_6/initial_outputs.npy')\n",
    "gpr6 = GaussianProcessRegressor()\n",
    "gpr6.fit(X6, Y6)"
   ]
  },
  {
   "cell_type": "code",
   "execution_count": 157,
   "metadata": {
    "scrolled": true
   },
   "outputs": [
    {
     "name": "stdout",
     "output_type": "stream",
     "text": [
      "[[7.28186105e-01 1.54692570e-01 7.32551669e-01 6.93996509e-01\n",
      "  5.64013105e-02]\n",
      " [2.42384347e-01 8.44099972e-01 5.77809099e-01 6.79021284e-01\n",
      "  5.01952888e-01]\n",
      " [7.29522610e-01 7.48106200e-01 6.79774641e-01 3.56552279e-01\n",
      "  6.71053683e-01]\n",
      " [7.70620242e-01 1.14403744e-01 4.67799319e-02 6.48324285e-01\n",
      "  2.73549053e-01]\n",
      " [6.18812299e-01 3.31802137e-01 1.87287868e-01 7.56238474e-01\n",
      "  3.28834798e-01]\n",
      " [7.84958094e-01 9.10682349e-01 7.08120104e-01 9.59225429e-01\n",
      "  4.91149586e-03]\n",
      " [1.45110786e-01 8.96684598e-01 8.96322235e-01 7.26271537e-01\n",
      "  2.36271991e-01]\n",
      " [9.45069068e-01 2.88459051e-01 9.78805764e-01 9.61655587e-01\n",
      "  5.98015936e-01]\n",
      " [1.25720155e-01 8.62724692e-01 2.85443322e-02 2.46605272e-01\n",
      "  7.51206241e-01]\n",
      " [7.57594355e-01 3.55831415e-01 1.65228997e-02 4.34207205e-01\n",
      "  1.12433044e-01]\n",
      " [5.36796903e-01 3.08780907e-01 4.11879285e-01 3.88225177e-01\n",
      "  5.22528304e-01]\n",
      " [9.57739669e-01 2.35668572e-01 9.91458496e-02 1.56805934e-01\n",
      "  7.13173731e-02]\n",
      " [6.29307895e-01 8.03483678e-01 8.11408439e-01 4.56131858e-02\n",
      "  1.10624462e-01]\n",
      " [2.17353077e-02 4.28084240e-01 8.35939437e-01 4.89488659e-01\n",
      "  5.11081735e-01]\n",
      " [4.39344264e-01 6.98923833e-01 4.26820222e-01 1.09476085e-01\n",
      "  8.77888468e-01]\n",
      " [2.58905574e-01 7.93677708e-01 6.42113905e-01 1.96673464e-01\n",
      "  5.93103177e-01]\n",
      " [4.32165933e-01 7.15617813e-01 3.41819103e-01 7.04999881e-01\n",
      "  6.14961845e-01]\n",
      " [7.82879823e-01 5.36335859e-01 4.43283557e-01 8.59699826e-01\n",
      "  1.03259907e-02]\n",
      " [9.21776198e-01 9.31871216e-01 4.14876370e-01 5.95057266e-01\n",
      "  7.35625686e-01]\n",
      " [1.26678917e-01 2.91470301e-01 6.45284767e-02 6.80514603e-01\n",
      "  8.92819191e-01]\n",
      " [1.00000000e-06 7.00118000e-02 6.00000000e-02 9.99999000e-01\n",
      "  1.00000000e-06]\n",
      " [3.15789470e-01 1.00000000e-06 9.99990000e-01 9.99999000e-01\n",
      "  1.57894740e-01]\n",
      " [2.63157000e-01 9.99999000e-01 1.00000000e-07 9.99999000e-01\n",
      "  1.00000000e-06]\n",
      " [3.68421000e-01 2.63157000e-01 5.26315000e-01 5.37894000e-01\n",
      "  1.00000000e-06]\n",
      " [2.56810000e-01 7.56500000e-01 6.52894000e-01 4.13888000e-01\n",
      "  2.00000000e-01]\n",
      " [6.52894000e-01 2.00000000e-01 7.56500000e-01 2.56810000e-01\n",
      "  4.13888000e-01]]\n",
      "[-0.71426495 -1.20995524 -1.67219994 -1.53605771 -0.82923655 -1.24704893\n",
      " -1.23378638 -1.69434344 -2.57116963 -1.30911635 -1.14478485 -1.91267714\n",
      " -1.62283895 -1.35668211 -2.0184254  -1.70255784 -1.29424696 -0.93575656\n",
      " -2.15576776 -1.74688209 -1.6157559  -1.12041027 -1.81299329 -0.55391649\n",
      " -0.99720376 -1.29871659]\n"
     ]
    }
   ],
   "source": [
    "arr1 = np.array([[0.652894, 0.2,0.7565,0.25681,0.413888]])\n",
    "\n",
    "#[3.68421e-01 2.63157e-01 5.26315e-01 5.37894e-01 1.00000e-06]\n",
    "#[0.25681  0.7565   0.652894 0.413888 0.2     ]\n",
    "#[0.652894 0.2      0.7565   0.25681  0.413888]\n",
    "#[0.430379 0.379746 0.35443  0.417721]\n",
    "#2.63157e-01 9.99999e-01 1.00000e-06 9.99999e-01 1.00000e-06\n",
    "#[1.00000e-06 7.00110e-02 6.00000e-02 9.99999e-01 1.00000e-06]\n",
    "arr2= np.array([-1.2987165869041900])\n",
    "\n",
    "#-0.5539164908512890\n",
    "#-0.9972037587272580\n",
    "#-1.2987165869041900\n",
    "#-1.6157559040037100\n",
    "#0.5777078964311150\n",
    "#[0.648    0.999999 0.999999 0.999999]\n",
    "#5106.860978590750\n",
    "#3.15789e-01 1.00000e-06 9.99999e-01 9.99999e-01 1.57894e-01\n",
    "#-1.12041026926297\n",
    "#-1.81299329307012\n",
    "\n",
    "filename1 = 'initial_data/function_6/initial_inputs.npy'\n",
    "filename2 = 'initial_data/function_6/initial_outputs.npy'\n",
    "\n",
    "with NpyAppendArray(filename1) as npaa:\n",
    "    npaa.append(arr1)\n",
    "    #npaa.append(arr2)\n",
    "    #npaa.append(arr2)\n",
    "    \n",
    "data1 = np.load(filename1, mmap_mode=\"r\")\n",
    "with NpyAppendArray(filename2) as npaa1:\n",
    "    npaa1.append(arr2)\n",
    "    #npaa.append(arr2)\n",
    "    #npaa.append(arr2)\n",
    "    \n",
    "data2 = np.load(filename2, mmap_mode=\"r\")\n",
    "\n",
    "print(data1)\n",
    "print(data2)"
   ]
  },
  {
   "cell_type": "code",
   "execution_count": 259,
   "metadata": {
    "scrolled": false
   },
   "outputs": [
    {
     "data": {
      "text/plain": [
       "array([[7.28186105e-01, 1.54692570e-01, 7.32551669e-01, 6.93996509e-01,\n",
       "        5.64013105e-02],\n",
       "       [2.42384347e-01, 8.44099972e-01, 5.77809099e-01, 6.79021284e-01,\n",
       "        5.01952888e-01],\n",
       "       [7.29522610e-01, 7.48106200e-01, 6.79774641e-01, 3.56552279e-01,\n",
       "        6.71053683e-01],\n",
       "       [7.70620242e-01, 1.14403744e-01, 4.67799319e-02, 6.48324285e-01,\n",
       "        2.73549053e-01],\n",
       "       [6.18812299e-01, 3.31802137e-01, 1.87287868e-01, 7.56238474e-01,\n",
       "        3.28834798e-01],\n",
       "       [7.84958094e-01, 9.10682349e-01, 7.08120104e-01, 9.59225429e-01,\n",
       "        4.91149586e-03],\n",
       "       [1.45110786e-01, 8.96684598e-01, 8.96322235e-01, 7.26271537e-01,\n",
       "        2.36271991e-01],\n",
       "       [9.45069068e-01, 2.88459051e-01, 9.78805764e-01, 9.61655587e-01,\n",
       "        5.98015936e-01],\n",
       "       [1.25720155e-01, 8.62724692e-01, 2.85443322e-02, 2.46605272e-01,\n",
       "        7.51206241e-01],\n",
       "       [7.57594355e-01, 3.55831415e-01, 1.65228997e-02, 4.34207205e-01,\n",
       "        1.12433044e-01],\n",
       "       [5.36796903e-01, 3.08780907e-01, 4.11879285e-01, 3.88225177e-01,\n",
       "        5.22528304e-01],\n",
       "       [9.57739669e-01, 2.35668572e-01, 9.91458496e-02, 1.56805934e-01,\n",
       "        7.13173731e-02],\n",
       "       [6.29307895e-01, 8.03483678e-01, 8.11408439e-01, 4.56131858e-02,\n",
       "        1.10624462e-01],\n",
       "       [2.17353077e-02, 4.28084240e-01, 8.35939437e-01, 4.89488659e-01,\n",
       "        5.11081735e-01],\n",
       "       [4.39344264e-01, 6.98923833e-01, 4.26820222e-01, 1.09476085e-01,\n",
       "        8.77888468e-01],\n",
       "       [2.58905574e-01, 7.93677708e-01, 6.42113905e-01, 1.96673464e-01,\n",
       "        5.93103177e-01],\n",
       "       [4.32165933e-01, 7.15617813e-01, 3.41819103e-01, 7.04999881e-01,\n",
       "        6.14961845e-01],\n",
       "       [7.82879823e-01, 5.36335859e-01, 4.43283557e-01, 8.59699826e-01,\n",
       "        1.03259907e-02],\n",
       "       [9.21776198e-01, 9.31871216e-01, 4.14876370e-01, 5.95057266e-01,\n",
       "        7.35625686e-01],\n",
       "       [1.26678917e-01, 2.91470301e-01, 6.45284767e-02, 6.80514603e-01,\n",
       "        8.92819191e-01],\n",
       "       [1.00000000e-06, 7.00118000e-02, 6.00000000e-02, 9.99999000e-01,\n",
       "        1.00000000e-06],\n",
       "       [3.15789470e-01, 1.00000000e-06, 9.99990000e-01, 9.99999000e-01,\n",
       "        1.57894740e-01],\n",
       "       [2.63157000e-01, 9.99999000e-01, 1.00000000e-07, 9.99999000e-01,\n",
       "        1.00000000e-06],\n",
       "       [3.68421000e-01, 2.63157000e-01, 5.26315000e-01, 5.37894000e-01,\n",
       "        1.00000000e-06],\n",
       "       [2.56810000e-01, 7.56500000e-01, 6.52894000e-01, 4.13888000e-01,\n",
       "        2.00000000e-01],\n",
       "       [6.52894000e-01, 2.00000000e-01, 7.56500000e-01, 2.56810000e-01,\n",
       "        4.13888000e-01]])"
      ]
     },
     "execution_count": 259,
     "metadata": {},
     "output_type": "execute_result"
    }
   ],
   "source": [
    "X6"
   ]
  },
  {
   "cell_type": "code",
   "execution_count": 254,
   "metadata": {
    "scrolled": true
   },
   "outputs": [
    {
     "data": {
      "text/plain": [
       "array([-0.71426495, -1.20995524, -1.67219994, -1.53605771, -0.82923655,\n",
       "       -1.24704893, -1.23378638, -1.69434344, -2.57116963, -1.30911635,\n",
       "       -1.14478485, -1.91267714, -1.62283895, -1.35668211, -2.0184254 ,\n",
       "       -1.70255784, -1.29424696, -0.93575656, -2.15576776, -1.74688209,\n",
       "       -1.6157559 , -1.12041027, -1.81299329, -0.55391649, -0.99720376,\n",
       "       -1.29871659])"
      ]
     },
     "execution_count": 254,
     "metadata": {},
     "output_type": "execute_result"
    }
   ],
   "source": [
    "Y6"
   ]
  },
  {
   "cell_type": "code",
   "execution_count": 260,
   "metadata": {},
   "outputs": [],
   "source": [
    "x16 = np.linspace(0, 1, 20)\n",
    "x17= np.linspace(0, 1, 20)\n",
    "x18 = np.linspace(0, 1, 20)\n",
    "x19 = np.linspace(0, 1, 20)\n",
    "x20 = np.linspace(0, 1, 20)"
   ]
  },
  {
   "cell_type": "code",
   "execution_count": 256,
   "metadata": {},
   "outputs": [],
   "source": [
    "X_grid5 = []\n",
    "for i in range(len(x16)):\n",
    "    for j in range(len(x17)):\n",
    "        for k in range(len(x18)):\n",
    "            for l in range(len(x19)):\n",
    "                for m in range(len(x20)):\n",
    "            \n",
    "                    X_grid5.append([x16[i], x17[j],x18[k],x19[l],x20[m]])"
   ]
  },
  {
   "cell_type": "code",
   "execution_count": 257,
   "metadata": {},
   "outputs": [
    {
     "name": "stdout",
     "output_type": "stream",
     "text": [
      "[0.42105263 0.36842105 0.52631579 0.84210526 0.21052632]\n"
     ]
    }
   ],
   "source": [
    "X_grid5 = np.array(X_grid5)\n",
    "mean5, std5 = gpr6.predict(X_grid5, return_std = True)\n",
    "ucb5 = mean5 + 1.96 * std5\n",
    "idx_max5 = np.argmax(ucb5)\n",
    "next_query5 = X_grid5[idx_max5]\n",
    "print(next_query5)"
   ]
  },
  {
   "cell_type": "code",
   "execution_count": 258,
   "metadata": {},
   "outputs": [
    {
     "data": {
      "text/plain": [
       "array([[-0.34398977]])"
      ]
     },
     "execution_count": 258,
     "metadata": {},
     "output_type": "execute_result"
    }
   ],
   "source": [
    "g15=gpr6.sample_y([[0.42105263, 0.36842105, 0.52631579, 0.84210526, 0.21052632]], n_samples=1, random_state=0)\n",
    "g15"
   ]
  },
  {
   "cell_type": "code",
   "execution_count": null,
   "metadata": {},
   "outputs": [],
   "source": [
    "array([[1.558154]])-->[[0.0001, 0.05263158,0.05263158,1,0]]"
   ]
  },
  {
   "cell_type": "code",
   "execution_count": null,
   "metadata": {},
   "outputs": [],
   "source": [
    "array([[1.55836184]])-->[[0.0001, 0.06263158,0.05263158,.99999,0.00001]"
   ]
  },
  {
   "cell_type": "code",
   "execution_count": null,
   "metadata": {},
   "outputs": [],
   "source": [
    "array([[1.5584432]])-->[0.0001, 0.07263158,0.05263158,.99999,0.00001]"
   ]
  },
  {
   "cell_type": "code",
   "execution_count": null,
   "metadata": {},
   "outputs": [],
   "source": [
    "array([[1.55846099]])-[0.0001, 0.07263158,0.060,.99999,0.00001]"
   ]
  },
  {
   "cell_type": "code",
   "execution_count": null,
   "metadata": {},
   "outputs": [],
   "source": [
    "array([[1.5585701]])- [0.000001, 0.07263158,0.060,.99999,0.00001]"
   ]
  },
  {
   "cell_type": "code",
   "execution_count": null,
   "metadata": {},
   "outputs": [],
   "source": [
    "array([[1.55859498]])--->[0.000001, 0.07263158,0.060,.999999,0.000001]"
   ]
  },
  {
   "cell_type": "code",
   "execution_count": null,
   "metadata": {},
   "outputs": [],
   "source": [
    "([[1.55860091]])-->[0.000001, 0.0720000,0.060,.999999,0.000001]"
   ]
  },
  {
   "cell_type": "code",
   "execution_count": null,
   "metadata": {},
   "outputs": [],
   "source": [
    "array([[1.55861552]])->[0.000001, 0.0700118,0.060,.999999,0.000001]"
   ]
  },
  {
   "cell_type": "markdown",
   "metadata": {},
   "source": [
    "function 7"
   ]
  },
  {
   "cell_type": "code",
   "execution_count": 261,
   "metadata": {
    "scrolled": true
   },
   "outputs": [
    {
     "data": {
      "text/html": [
       "<style>#sk-container-id-15 {color: black;background-color: white;}#sk-container-id-15 pre{padding: 0;}#sk-container-id-15 div.sk-toggleable {background-color: white;}#sk-container-id-15 label.sk-toggleable__label {cursor: pointer;display: block;width: 100%;margin-bottom: 0;padding: 0.3em;box-sizing: border-box;text-align: center;}#sk-container-id-15 label.sk-toggleable__label-arrow:before {content: \"▸\";float: left;margin-right: 0.25em;color: #696969;}#sk-container-id-15 label.sk-toggleable__label-arrow:hover:before {color: black;}#sk-container-id-15 div.sk-estimator:hover label.sk-toggleable__label-arrow:before {color: black;}#sk-container-id-15 div.sk-toggleable__content {max-height: 0;max-width: 0;overflow: hidden;text-align: left;background-color: #f0f8ff;}#sk-container-id-15 div.sk-toggleable__content pre {margin: 0.2em;color: black;border-radius: 0.25em;background-color: #f0f8ff;}#sk-container-id-15 input.sk-toggleable__control:checked~div.sk-toggleable__content {max-height: 200px;max-width: 100%;overflow: auto;}#sk-container-id-15 input.sk-toggleable__control:checked~label.sk-toggleable__label-arrow:before {content: \"▾\";}#sk-container-id-15 div.sk-estimator input.sk-toggleable__control:checked~label.sk-toggleable__label {background-color: #d4ebff;}#sk-container-id-15 div.sk-label input.sk-toggleable__control:checked~label.sk-toggleable__label {background-color: #d4ebff;}#sk-container-id-15 input.sk-hidden--visually {border: 0;clip: rect(1px 1px 1px 1px);clip: rect(1px, 1px, 1px, 1px);height: 1px;margin: -1px;overflow: hidden;padding: 0;position: absolute;width: 1px;}#sk-container-id-15 div.sk-estimator {font-family: monospace;background-color: #f0f8ff;border: 1px dotted black;border-radius: 0.25em;box-sizing: border-box;margin-bottom: 0.5em;}#sk-container-id-15 div.sk-estimator:hover {background-color: #d4ebff;}#sk-container-id-15 div.sk-parallel-item::after {content: \"\";width: 100%;border-bottom: 1px solid gray;flex-grow: 1;}#sk-container-id-15 div.sk-label:hover label.sk-toggleable__label {background-color: #d4ebff;}#sk-container-id-15 div.sk-serial::before {content: \"\";position: absolute;border-left: 1px solid gray;box-sizing: border-box;top: 0;bottom: 0;left: 50%;z-index: 0;}#sk-container-id-15 div.sk-serial {display: flex;flex-direction: column;align-items: center;background-color: white;padding-right: 0.2em;padding-left: 0.2em;position: relative;}#sk-container-id-15 div.sk-item {position: relative;z-index: 1;}#sk-container-id-15 div.sk-parallel {display: flex;align-items: stretch;justify-content: center;background-color: white;position: relative;}#sk-container-id-15 div.sk-item::before, #sk-container-id-15 div.sk-parallel-item::before {content: \"\";position: absolute;border-left: 1px solid gray;box-sizing: border-box;top: 0;bottom: 0;left: 50%;z-index: -1;}#sk-container-id-15 div.sk-parallel-item {display: flex;flex-direction: column;z-index: 1;position: relative;background-color: white;}#sk-container-id-15 div.sk-parallel-item:first-child::after {align-self: flex-end;width: 50%;}#sk-container-id-15 div.sk-parallel-item:last-child::after {align-self: flex-start;width: 50%;}#sk-container-id-15 div.sk-parallel-item:only-child::after {width: 0;}#sk-container-id-15 div.sk-dashed-wrapped {border: 1px dashed gray;margin: 0 0.4em 0.5em 0.4em;box-sizing: border-box;padding-bottom: 0.4em;background-color: white;}#sk-container-id-15 div.sk-label label {font-family: monospace;font-weight: bold;display: inline-block;line-height: 1.2em;}#sk-container-id-15 div.sk-label-container {text-align: center;}#sk-container-id-15 div.sk-container {/* jupyter's `normalize.less` sets `[hidden] { display: none; }` but bootstrap.min.css set `[hidden] { display: none !important; }` so we also need the `!important` here to be able to override the default hidden behavior on the sphinx rendered scikit-learn.org. See: https://github.com/scikit-learn/scikit-learn/issues/21755 */display: inline-block !important;position: relative;}#sk-container-id-15 div.sk-text-repr-fallback {display: none;}</style><div id=\"sk-container-id-15\" class=\"sk-top-container\"><div class=\"sk-text-repr-fallback\"><pre>GaussianProcessRegressor()</pre><b>In a Jupyter environment, please rerun this cell to show the HTML representation or trust the notebook. <br />On GitHub, the HTML representation is unable to render, please try loading this page with nbviewer.org.</b></div><div class=\"sk-container\" hidden><div class=\"sk-item\"><div class=\"sk-estimator sk-toggleable\"><input class=\"sk-toggleable__control sk-hidden--visually\" id=\"sk-estimator-id-15\" type=\"checkbox\" checked><label for=\"sk-estimator-id-15\" class=\"sk-toggleable__label sk-toggleable__label-arrow\">GaussianProcessRegressor</label><div class=\"sk-toggleable__content\"><pre>GaussianProcessRegressor()</pre></div></div></div></div></div>"
      ],
      "text/plain": [
       "GaussianProcessRegressor()"
      ]
     },
     "execution_count": 261,
     "metadata": {},
     "output_type": "execute_result"
    }
   ],
   "source": [
    "X7 = np.load('initial_data/function_7/initial_inputs.npy')\n",
    "Y7 = np.load('initial_data/function_7/initial_outputs.npy')\n",
    "gpr7 = GaussianProcessRegressor()\n",
    "gpr7.fit(X7, Y7)"
   ]
  },
  {
   "cell_type": "code",
   "execution_count": 160,
   "metadata": {
    "scrolled": false
   },
   "outputs": [
    {
     "name": "stdout",
     "output_type": "stream",
     "text": [
      "[[2.72623822e-01 3.24495362e-01 8.97108810e-01 8.32951152e-01\n",
      "  1.54062685e-01 7.95863623e-01]\n",
      " [5.43002577e-01 9.24693904e-01 3.41567459e-01 6.46485849e-01\n",
      "  7.18440327e-01 3.43132664e-01]\n",
      " [9.08322480e-02 6.61529382e-01 6.59309106e-02 2.58577008e-01\n",
      "  9.63452851e-01 6.40265398e-01]\n",
      " [1.18866975e-01 6.15054940e-01 9.05816385e-01 8.55300304e-01\n",
      "  4.13631429e-01 5.85235628e-01]\n",
      " [6.30217641e-01 8.38096896e-01 6.80013052e-01 7.31895090e-01\n",
      "  5.26736715e-01 3.48429213e-01]\n",
      " [7.64919173e-01 2.55882917e-01 6.09084224e-01 2.18079042e-01\n",
      "  3.22942769e-01 9.57936551e-02]\n",
      " [5.78955420e-02 4.91672219e-01 2.47422224e-01 2.18118436e-01\n",
      "  4.20428330e-01 7.30969843e-01]\n",
      " [1.95251881e-01 7.92266506e-02 5.54580462e-01 1.70566820e-01\n",
      "  1.49441764e-02 1.07031710e-01]\n",
      " [6.42302982e-01 8.36874547e-01 2.17926915e-02 1.01488010e-01\n",
      "  6.83070828e-01 6.92416400e-01]\n",
      " [7.89942554e-01 1.95545005e-01 5.75623326e-01 7.36591873e-02\n",
      "  2.59049174e-01 5.10998642e-02]\n",
      " [5.28497328e-01 4.57424355e-01 3.60095690e-01 3.62045506e-01\n",
      "  8.16890978e-01 6.37476366e-01]\n",
      " [7.22615215e-01 1.18128367e-02 6.36459129e-02 1.65173106e-01\n",
      "  7.92441460e-02 3.59951657e-01]\n",
      " [7.56649212e-02 3.34502119e-01 1.32732737e-01 6.08312361e-01\n",
      "  9.18385918e-01 8.22330786e-01]\n",
      " [9.42450839e-01 3.77439621e-01 4.86122326e-01 2.28791083e-01\n",
      "  8.26317471e-02 7.11957551e-01]\n",
      " [1.48647021e-01 3.39433634e-02 7.28805650e-01 3.16066456e-01\n",
      "  2.17693828e-02 5.16917757e-01]\n",
      " [8.17112389e-01 5.48168231e-01 1.03347578e-01 1.24369546e-01\n",
      "  7.28234821e-01 4.49673612e-01]\n",
      " [4.17626293e-01 6.40999814e-02 2.45668774e-01 5.59040796e-01\n",
      "  1.91531384e-01 2.54640923e-01]\n",
      " [7.26285664e-01 4.64895805e-01 9.24570514e-01 8.07245395e-01\n",
      "  6.35438395e-01 1.43417874e-01]\n",
      " [3.19810433e-01 5.20097588e-01 2.90677754e-01 8.76706678e-01\n",
      "  4.95034689e-01 6.19082500e-01]\n",
      " [8.79871278e-01 3.97961990e-01 3.63456483e-03 9.56990640e-01\n",
      "  2.64513733e-01 1.14869241e-01]\n",
      " [5.41240780e-01 6.31403143e-01 3.19020463e-02 4.49981560e-01\n",
      "  7.98652816e-01 6.33704291e-01]\n",
      " [2.26347921e-01 1.15025814e-01 8.24749655e-01 9.45383725e-01\n",
      "  9.05311528e-01 9.51013915e-01]\n",
      " [6.86852570e-01 4.10172078e-02 7.57301067e-03 2.85008996e-01\n",
      "  6.91568484e-01 6.55542897e-01]\n",
      " [1.75977537e-01 6.24416497e-01 2.95541984e-01 4.69552759e-01\n",
      "  9.77697705e-02 7.28141081e-01]\n",
      " [8.81646737e-01 2.04450188e-01 4.14474359e-01 4.20384678e-01\n",
      "  2.64915015e-01 7.30660187e-01]\n",
      " [6.66105106e-02 5.28045066e-01 8.16095195e-01 9.61017137e-01\n",
      "  8.65093337e-02 7.77788216e-01]\n",
      " [9.32466380e-01 4.88811888e-01 2.58607742e-01 9.56243436e-01\n",
      "  1.90427810e-01 5.19851758e-01]\n",
      " [8.46866965e-01 1.42429172e-01 6.06685898e-02 7.56292128e-01\n",
      "  5.52398295e-01 8.13060872e-02]\n",
      " [8.06282084e-01 3.24122375e-01 7.26076013e-01 1.48712132e-01\n",
      "  7.19376401e-01 3.62883978e-01]\n",
      " [4.76823129e-01 3.40941950e-01 1.43352324e-02 8.80139563e-01\n",
      "  9.98654696e-01 7.96640186e-02]\n",
      " [1.00000000e-06 1.00000000e-06 1.11119000e-01 1.00000000e-06\n",
      "  2.22222000e-01 9.99999000e-01]\n",
      " [9.99999000e-01 9.99999000e-01 2.22222000e-01 9.99999000e-01\n",
      "  9.99999000e-01 1.00000000e-06]\n",
      " [1.00000000e-06 9.99999000e-01 1.00000000e-06 1.00000000e-06\n",
      "  3.33333000e-01 1.00000000e-06]\n",
      " [1.00000000e-06 7.77777000e-01 7.77777000e-01 1.00000000e-07\n",
      "  3.33333000e-01 9.99999000e-01]\n",
      " [3.00000000e-01 6.50080000e-01 5.44411000e-01 7.61222000e-01\n",
      "  1.19990000e-01 7.65111000e-01]\n",
      " [5.44411000e-01 1.19990000e-01 7.65111000e-01 3.00000000e-01\n",
      "  6.50080000e-01 3.52700000e-01]]\n",
      "[6.04432696e-01 5.62753067e-01 7.50323668e-03 6.14243025e-02\n",
      " 2.73046801e-01 8.37465723e-02 1.36496830e+00 9.26449549e-02\n",
      " 1.78695987e-02 3.35649360e-02 7.35163042e-02 2.06309698e-01\n",
      " 8.82563400e-03 2.68400317e-01 6.11525528e-01 1.47981826e-02\n",
      " 2.74892508e-01 6.67632469e-02 4.21183545e-02 2.70146502e-03\n",
      " 1.82090730e-02 7.01602756e-03 1.00506611e-01 4.75395516e-01\n",
      " 6.75141631e-01 5.16457219e-01 3.77747962e-03 3.13433331e-03\n",
      " 2.13425228e-02 9.54111589e-02 3.41951410e-01 1.00349676e-03\n",
      " 8.15620485e-03 2.94582224e-01 1.58800114e-01 1.42979157e-01]\n"
     ]
    }
   ],
   "source": [
    "arr1 = np.array([[0.544411, 0.11999, 0.765111, 0.3,0.65008, 0.3527]])\n",
    "\n",
    "#[1.00000e-06 7.77778e-01 7.77778e-01 1.00000e-06 3.33333e-01 9.99990e-01]\n",
    "#[0.3      0.65008  0.544411 0.761222 0.11999  0.765111]\n",
    "#[0.544411 0.11999  0.765111 0.3      0.65008  0.3527  ]\n",
    "#[0.430379 0.379746 0.35443  0.417721]\n",
    "#[1.00000e-06 1.00000e-06 1.11119e-01 1.00000e-06 2.22222e-01 9.99999e-01]\n",
    "#0.34195141040382500\n",
    "#[1.00000e-06 7.00110e-02 6.00000e-02 9.99999e-01 1.00000e-06]\n",
    "#1.00000e-06 9.99999e-01 1.00000e-06 1.00000e-06 3.33333e-01 1.00000e-06\n",
    "arr2= np.array([0.14297915738579900])\n",
    "\n",
    "\n",
    "#0.2945822237491060\n",
    "#0.15880011438807300\n",
    "#0.14297915738579900\n",
    "#-1.6157559040037100\n",
    "#0.5777078964311150\n",
    "#[0.648    0.999999 0.999999 0.999999]\n",
    "#5106.860978590750\n",
    "#0.999999, 0.999999,0.222222,0.999999,0.999999,0.000001\n",
    "#0.0010034967597962000\n",
    "#0.00815620485382692\n",
    "\n",
    "filename1 = 'initial_data/function_7/initial_inputs.npy'\n",
    "filename2 = 'initial_data/function_7/initial_outputs.npy'\n",
    "\n",
    "with NpyAppendArray(filename1) as npaa:\n",
    "    npaa.append(arr1)\n",
    "    #npaa.append(arr2)\n",
    "    #npaa.append(arr2)\n",
    "    \n",
    "data1 = np.load(filename1, mmap_mode=\"r\")\n",
    "with NpyAppendArray(filename2) as npaa1:\n",
    "    npaa1.append(arr2)\n",
    "    #npaa.append(arr2)\n",
    "    #npaa.append(arr2)\n",
    "    \n",
    "data2 = np.load(filename2, mmap_mode=\"r\")\n",
    "\n",
    "print(data1)\n",
    "print(data2)"
   ]
  },
  {
   "cell_type": "code",
   "execution_count": null,
   "metadata": {},
   "outputs": [],
   "source": []
  },
  {
   "cell_type": "code",
   "execution_count": 262,
   "metadata": {
    "scrolled": true
   },
   "outputs": [
    {
     "data": {
      "text/plain": [
       "array([[2.72623822e-01, 3.24495362e-01, 8.97108810e-01, 8.32951152e-01,\n",
       "        1.54062685e-01, 7.95863623e-01],\n",
       "       [5.43002577e-01, 9.24693904e-01, 3.41567459e-01, 6.46485849e-01,\n",
       "        7.18440327e-01, 3.43132664e-01],\n",
       "       [9.08322480e-02, 6.61529382e-01, 6.59309106e-02, 2.58577008e-01,\n",
       "        9.63452851e-01, 6.40265398e-01],\n",
       "       [1.18866975e-01, 6.15054940e-01, 9.05816385e-01, 8.55300304e-01,\n",
       "        4.13631429e-01, 5.85235628e-01],\n",
       "       [6.30217641e-01, 8.38096896e-01, 6.80013052e-01, 7.31895090e-01,\n",
       "        5.26736715e-01, 3.48429213e-01],\n",
       "       [7.64919173e-01, 2.55882917e-01, 6.09084224e-01, 2.18079042e-01,\n",
       "        3.22942769e-01, 9.57936551e-02],\n",
       "       [5.78955420e-02, 4.91672219e-01, 2.47422224e-01, 2.18118436e-01,\n",
       "        4.20428330e-01, 7.30969843e-01],\n",
       "       [1.95251881e-01, 7.92266506e-02, 5.54580462e-01, 1.70566820e-01,\n",
       "        1.49441764e-02, 1.07031710e-01],\n",
       "       [6.42302982e-01, 8.36874547e-01, 2.17926915e-02, 1.01488010e-01,\n",
       "        6.83070828e-01, 6.92416400e-01],\n",
       "       [7.89942554e-01, 1.95545005e-01, 5.75623326e-01, 7.36591873e-02,\n",
       "        2.59049174e-01, 5.10998642e-02],\n",
       "       [5.28497328e-01, 4.57424355e-01, 3.60095690e-01, 3.62045506e-01,\n",
       "        8.16890978e-01, 6.37476366e-01],\n",
       "       [7.22615215e-01, 1.18128367e-02, 6.36459129e-02, 1.65173106e-01,\n",
       "        7.92441460e-02, 3.59951657e-01],\n",
       "       [7.56649212e-02, 3.34502119e-01, 1.32732737e-01, 6.08312361e-01,\n",
       "        9.18385918e-01, 8.22330786e-01],\n",
       "       [9.42450839e-01, 3.77439621e-01, 4.86122326e-01, 2.28791083e-01,\n",
       "        8.26317471e-02, 7.11957551e-01],\n",
       "       [1.48647021e-01, 3.39433634e-02, 7.28805650e-01, 3.16066456e-01,\n",
       "        2.17693828e-02, 5.16917757e-01],\n",
       "       [8.17112389e-01, 5.48168231e-01, 1.03347578e-01, 1.24369546e-01,\n",
       "        7.28234821e-01, 4.49673612e-01],\n",
       "       [4.17626293e-01, 6.40999814e-02, 2.45668774e-01, 5.59040796e-01,\n",
       "        1.91531384e-01, 2.54640923e-01],\n",
       "       [7.26285664e-01, 4.64895805e-01, 9.24570514e-01, 8.07245395e-01,\n",
       "        6.35438395e-01, 1.43417874e-01],\n",
       "       [3.19810433e-01, 5.20097588e-01, 2.90677754e-01, 8.76706678e-01,\n",
       "        4.95034689e-01, 6.19082500e-01],\n",
       "       [8.79871278e-01, 3.97961990e-01, 3.63456483e-03, 9.56990640e-01,\n",
       "        2.64513733e-01, 1.14869241e-01],\n",
       "       [5.41240780e-01, 6.31403143e-01, 3.19020463e-02, 4.49981560e-01,\n",
       "        7.98652816e-01, 6.33704291e-01],\n",
       "       [2.26347921e-01, 1.15025814e-01, 8.24749655e-01, 9.45383725e-01,\n",
       "        9.05311528e-01, 9.51013915e-01],\n",
       "       [6.86852570e-01, 4.10172078e-02, 7.57301067e-03, 2.85008996e-01,\n",
       "        6.91568484e-01, 6.55542897e-01],\n",
       "       [1.75977537e-01, 6.24416497e-01, 2.95541984e-01, 4.69552759e-01,\n",
       "        9.77697705e-02, 7.28141081e-01],\n",
       "       [8.81646737e-01, 2.04450188e-01, 4.14474359e-01, 4.20384678e-01,\n",
       "        2.64915015e-01, 7.30660187e-01],\n",
       "       [6.66105106e-02, 5.28045066e-01, 8.16095195e-01, 9.61017137e-01,\n",
       "        8.65093337e-02, 7.77788216e-01],\n",
       "       [9.32466380e-01, 4.88811888e-01, 2.58607742e-01, 9.56243436e-01,\n",
       "        1.90427810e-01, 5.19851758e-01],\n",
       "       [8.46866965e-01, 1.42429172e-01, 6.06685898e-02, 7.56292128e-01,\n",
       "        5.52398295e-01, 8.13060872e-02],\n",
       "       [8.06282084e-01, 3.24122375e-01, 7.26076013e-01, 1.48712132e-01,\n",
       "        7.19376401e-01, 3.62883978e-01],\n",
       "       [4.76823129e-01, 3.40941950e-01, 1.43352324e-02, 8.80139563e-01,\n",
       "        9.98654696e-01, 7.96640186e-02],\n",
       "       [1.00000000e-06, 1.00000000e-06, 1.11119000e-01, 1.00000000e-06,\n",
       "        2.22222000e-01, 9.99999000e-01],\n",
       "       [9.99999000e-01, 9.99999000e-01, 2.22222000e-01, 9.99999000e-01,\n",
       "        9.99999000e-01, 1.00000000e-06],\n",
       "       [1.00000000e-06, 9.99999000e-01, 1.00000000e-06, 1.00000000e-06,\n",
       "        3.33333000e-01, 1.00000000e-06],\n",
       "       [1.00000000e-06, 7.77777000e-01, 7.77777000e-01, 1.00000000e-07,\n",
       "        3.33333000e-01, 9.99999000e-01],\n",
       "       [3.00000000e-01, 6.50080000e-01, 5.44411000e-01, 7.61222000e-01,\n",
       "        1.19990000e-01, 7.65111000e-01],\n",
       "       [5.44411000e-01, 1.19990000e-01, 7.65111000e-01, 3.00000000e-01,\n",
       "        6.50080000e-01, 3.52700000e-01]])"
      ]
     },
     "execution_count": 262,
     "metadata": {},
     "output_type": "execute_result"
    }
   ],
   "source": [
    "X7"
   ]
  },
  {
   "cell_type": "code",
   "execution_count": 263,
   "metadata": {
    "scrolled": false
   },
   "outputs": [
    {
     "data": {
      "text/plain": [
       "array([6.04432696e-01, 5.62753067e-01, 7.50323668e-03, 6.14243025e-02,\n",
       "       2.73046801e-01, 8.37465723e-02, 1.36496830e+00, 9.26449549e-02,\n",
       "       1.78695987e-02, 3.35649360e-02, 7.35163042e-02, 2.06309698e-01,\n",
       "       8.82563400e-03, 2.68400317e-01, 6.11525528e-01, 1.47981826e-02,\n",
       "       2.74892508e-01, 6.67632469e-02, 4.21183545e-02, 2.70146502e-03,\n",
       "       1.82090730e-02, 7.01602756e-03, 1.00506611e-01, 4.75395516e-01,\n",
       "       6.75141631e-01, 5.16457219e-01, 3.77747962e-03, 3.13433331e-03,\n",
       "       2.13425228e-02, 9.54111589e-02, 3.41951410e-01, 1.00349676e-03,\n",
       "       8.15620485e-03, 2.94582224e-01, 1.58800114e-01, 1.42979157e-01])"
      ]
     },
     "execution_count": 263,
     "metadata": {},
     "output_type": "execute_result"
    }
   ],
   "source": [
    "Y7"
   ]
  },
  {
   "cell_type": "code",
   "execution_count": 264,
   "metadata": {},
   "outputs": [],
   "source": [
    "x21 = np.linspace(0, 1, 10)\n",
    "x22= np.linspace(0, 1, 10)\n",
    "x23 = np.linspace(0, 1, 10)\n",
    "x24 = np.linspace(0, 1, 10)\n",
    "x25 = np.linspace(0, 1, 10)\n",
    "x26 = np.linspace(0, 1, 10)"
   ]
  },
  {
   "cell_type": "code",
   "execution_count": 265,
   "metadata": {},
   "outputs": [],
   "source": [
    "X_grid6 = []\n",
    "for i in range(len(x21)):\n",
    "    for j in range(len(x22)):\n",
    "        for k in range(len(x23)):\n",
    "            for l in range(len(x24)):\n",
    "                for m in range(len(x25)):\n",
    "                    for n in range(len(x26)):\n",
    "                        \n",
    "                    \n",
    "            \n",
    "                        X_grid6.append([x21[i], x22[j],x23[k],x24[l],x25[m],x26[n]])"
   ]
  },
  {
   "cell_type": "code",
   "execution_count": 266,
   "metadata": {},
   "outputs": [
    {
     "name": "stdout",
     "output_type": "stream",
     "text": [
      "[1. 0. 1. 1. 0. 1.]\n"
     ]
    }
   ],
   "source": [
    "X_grid6 = np.array(X_grid6)\n",
    "mean6, std6 = gpr7.predict(X_grid6, return_std = True)\n",
    "ucb6 = mean6 + 1.96 * std6\n",
    "idx_max6 = np.argmax(ucb6)\n",
    "next_query6 = X_grid6[idx_max6]\n",
    "print(next_query6)"
   ]
  },
  {
   "cell_type": "code",
   "execution_count": null,
   "metadata": {},
   "outputs": [],
   "source": [
    "5.78955420e-02, 4.91672219e-01, 2.47422224e-01, 2.18118436e-01,\n",
    "        4.20428330e-01, 7.30969843e-01"
   ]
  },
  {
   "cell_type": "code",
   "execution_count": null,
   "metadata": {},
   "outputs": [],
   "source": [
    "4.76823129e-01, 3.40941950e-01, 1.43352324e-02, 8.80139563e-01,\n",
    "        9.98654696e-01, 7.96640186e-02"
   ]
  },
  {
   "cell_type": "code",
   "execution_count": 267,
   "metadata": {},
   "outputs": [
    {
     "data": {
      "text/plain": [
       "array([[2.25261541]])"
      ]
     },
     "execution_count": 267,
     "metadata": {},
     "output_type": "execute_result"
    }
   ],
   "source": [
    "g16=gpr7.sample_y([[0.999999, 0.000001,0.999999, 0.999999, 0.000001, 0.999999]], n_samples=1, random_state=0)\n",
    "g16"
   ]
  },
  {
   "cell_type": "code",
   "execution_count": 399,
   "metadata": {},
   "outputs": [
    {
     "data": {
      "text/plain": [
       "array([[1.80374083]])"
      ]
     },
     "execution_count": 399,
     "metadata": {},
     "output_type": "execute_result"
    }
   ],
   "source": [
    "g16=gpr7.sample_y([[0.00180, 0.666,.601,0.21811,0.33333,0.73096]], n_samples=1, random_state=0)\n",
    "g16"
   ]
  },
  {
   "cell_type": "code",
   "execution_count": 353,
   "metadata": {},
   "outputs": [
    {
     "data": {
      "text/plain": [
       "array([[1.91692053]])"
      ]
     },
     "execution_count": 353,
     "metadata": {},
     "output_type": "execute_result"
    }
   ],
   "source": [
    "g16=gpr7.sample_y([[0.00001, 0.999999,0.000001,0.000001,0.333333,0.000001]], n_samples=1, random_state=0)\n",
    "g16"
   ]
  },
  {
   "cell_type": "code",
   "execution_count": null,
   "metadata": {},
   "outputs": [],
   "source": [
    "array([[3.11426389]])-->[0.0, 0.0,0.11111111,0.0,0.22222222,1]"
   ]
  },
  {
   "cell_type": "markdown",
   "metadata": {},
   "source": [
    "function 8"
   ]
  },
  {
   "cell_type": "code",
   "execution_count": 163,
   "metadata": {
    "scrolled": false
   },
   "outputs": [
    {
     "name": "stdout",
     "output_type": "stream",
     "text": [
      "[[6.04994453e-01 2.92215020e-01 9.08452748e-01 3.55506242e-01\n",
      "  2.01668719e-01 5.75338005e-01 3.10310951e-01 7.34281377e-01]\n",
      " [1.78006959e-01 5.66222654e-01 9.94861845e-01 2.10325006e-01\n",
      "  3.20152657e-01 7.07908792e-01 6.35384489e-01 1.07131627e-01]\n",
      " [9.07697668e-03 8.11626153e-01 5.20520360e-01 7.56866752e-02\n",
      "  2.65111825e-01 9.16516894e-02 5.92415145e-01 3.67320262e-01]\n",
      " [5.06028164e-01 6.53730123e-01 3.63410779e-01 1.77981049e-01\n",
      "  9.37283044e-02 1.97425331e-01 7.55826900e-01 2.92472339e-01]\n",
      " [3.59909264e-01 2.49075679e-01 4.95997170e-01 7.09214981e-01\n",
      "  1.14987195e-01 2.89206921e-01 5.57295151e-01 5.93881726e-01]\n",
      " [7.78818344e-01 3.41949948e-03 3.37983130e-01 5.19527778e-01\n",
      "  8.20906993e-01 5.37246689e-01 5.51347098e-01 6.60032086e-01]\n",
      " [9.08649322e-01 6.22496998e-02 2.38259546e-01 7.66603545e-01\n",
      "  1.32335962e-01 9.90243814e-01 6.88067822e-01 7.42495941e-01]\n",
      " [5.86371444e-01 8.80735726e-01 7.45020752e-01 5.46034849e-01\n",
      "  9.64887799e-03 7.48991763e-01 2.30907070e-01 9.79156228e-02]\n",
      " [7.61137326e-01 8.54672390e-01 3.82124331e-01 3.37351983e-01\n",
      "  6.89708320e-01 3.09853052e-01 6.31379683e-01 4.19560695e-02]\n",
      " [9.84933202e-01 6.99506258e-01 9.98885497e-01 1.80148456e-01\n",
      "  5.80143147e-01 2.31087191e-01 4.90826936e-01 3.13682720e-01]\n",
      " [1.12071314e-01 4.37735663e-01 5.96598785e-01 5.92775633e-01\n",
      "  2.26981770e-01 4.10104519e-01 9.21237577e-01 6.74752759e-01]\n",
      " [7.91887508e-01 5.76191336e-01 6.94528359e-01 2.83423782e-01\n",
      "  1.36755461e-01 2.79161861e-01 8.42767264e-01 6.25327922e-01]\n",
      " [1.43550296e-01 9.37414515e-01 2.32324818e-01 9.04348540e-03\n",
      "  4.14578930e-01 4.09325169e-01 5.53778522e-01 2.05840800e-01]\n",
      " [7.69916548e-01 4.58759088e-01 5.59000445e-01 6.94604441e-01\n",
      "  5.03199022e-01 7.28346383e-01 7.84253534e-01 6.63131087e-01]\n",
      " [5.64474111e-02 6.59555534e-02 2.29286780e-02 3.87864724e-02\n",
      "  4.03935441e-01 8.01055329e-01 4.88307007e-01 8.93084977e-01]\n",
      " [8.62437445e-01 4.82733822e-01 2.81869398e-01 5.44102227e-01\n",
      "  8.87490260e-01 3.82654693e-01 6.01901993e-01 4.76461690e-01]\n",
      " [3.51511904e-01 5.90064942e-01 9.09436304e-01 6.78408354e-01\n",
      "  2.12825656e-01 8.84603803e-02 4.10152995e-01 1.95724292e-01]\n",
      " [7.35903638e-01 3.46118895e-02 7.28030269e-01 1.47426522e-01\n",
      "  2.95743139e-01 4.45117308e-01 9.75179686e-01 3.74339784e-01]\n",
      " [6.80293974e-01 2.55104646e-01 8.62187985e-01 1.34395821e-01\n",
      "  3.26329200e-01 2.87906871e-01 4.35010484e-01 3.64200126e-01]\n",
      " [4.43292532e-02 1.35814872e-02 2.58198240e-01 5.77644163e-01\n",
      "  5.12799230e-02 1.58563071e-01 5.91030124e-01 7.79529335e-02]\n",
      " [7.78345480e-01 7.51145652e-01 3.14142208e-01 9.02985775e-01\n",
      "  3.35381656e-01 3.86322669e-01 7.48972486e-01 9.88755104e-01]\n",
      " [8.98887111e-01 5.23641705e-01 8.76783255e-01 2.18696449e-01\n",
      "  9.00260894e-01 2.82766245e-01 9.11077910e-01 4.72398218e-01]\n",
      " [1.45120286e-01 1.19327540e-01 4.20888224e-01 3.87608607e-01\n",
      "  1.55422833e-01 8.75171626e-01 5.10559672e-01 7.28610579e-01]\n",
      " [3.38954419e-01 5.66932018e-01 3.76751098e-01 9.89157290e-02\n",
      "  6.59451687e-01 2.45548090e-01 7.62482784e-01 7.32153467e-01]\n",
      " [1.76150018e-01 2.93961428e-01 9.75679966e-01 7.93936306e-01\n",
      "  9.23400762e-01 3.08422938e-02 8.03254524e-01 5.95897583e-01]\n",
      " [2.89466302e-02 2.82790578e-02 4.81371555e-01 6.13174600e-01\n",
      "  6.72660448e-01 2.21134069e-02 6.01483302e-01 5.24885053e-01]\n",
      " [1.92639868e-01 6.30677279e-01 4.16795837e-01 4.90529289e-01\n",
      "  7.96086023e-01 6.54567065e-01 2.76241193e-01 2.95517586e-01]\n",
      " [9.43185017e-01 2.18850618e-01 7.21184081e-01 4.24597072e-01\n",
      "  9.86902000e-01 5.35182984e-01 7.14743177e-01 9.60093720e-01]\n",
      " [5.32721401e-01 8.33692597e-01 7.13990037e-02 1.16811483e-01\n",
      "  7.30693110e-01 9.37375591e-01 8.66507981e-01 1.27901999e-01]\n",
      " [4.47095841e-01 8.43952527e-01 7.29546115e-01 6.39151378e-01\n",
      "  4.09287137e-01 1.32645694e-01 3.59088762e-02 4.46838470e-01]\n",
      " [3.82224965e-01 5.57135837e-01 8.53101634e-01 3.33795692e-01\n",
      "  2.65721272e-01 4.80872916e-01 2.37647062e-01 7.68631956e-01]\n",
      " [5.32819530e-01 8.62308484e-01 5.38267119e-01 4.94429349e-02\n",
      "  7.19701189e-01 9.06705899e-01 1.08230943e-01 5.25347913e-01]\n",
      " [3.94865187e-01 3.31801666e-01 7.40754301e-01 6.97861725e-01\n",
      "  7.37404439e-01 7.83776810e-01 2.54495461e-01 8.71145510e-01]\n",
      " [9.85945390e-01 8.73053629e-01 7.03926194e-02 5.35872927e-02\n",
      "  7.34152958e-01 5.20258522e-01 8.11040045e-01 1.03360365e-01]\n",
      " [9.64573386e-01 9.73979787e-01 6.63753351e-01 6.62215992e-01\n",
      "  6.73121672e-01 9.05237624e-01 4.58874624e-01 5.60917502e-01]\n",
      " [4.72070709e-01 1.68202645e-01 8.64275662e-02 4.52655513e-01\n",
      "  4.80619220e-01 6.22439489e-01 9.28974462e-01 1.12536267e-01]\n",
      " [8.56006953e-01 6.38893704e-01 3.26192022e-01 6.68503115e-01\n",
      "  2.40298369e-01 2.10298890e-01 1.67546362e-01 9.63589863e-01]\n",
      " [8.10031736e-01 6.35046041e-01 2.69547579e-01 8.69605338e-01\n",
      "  6.61921590e-01 2.52258727e-01 7.65670033e-01 8.90548667e-01]\n",
      " [7.96252524e-01 7.03653252e-03 3.55697380e-01 4.87566053e-01\n",
      "  7.40519615e-01 7.06650103e-01 9.92914495e-01 3.81734367e-01]\n",
      " [4.81245331e-01 1.02460721e-01 2.19485939e-01 6.77322369e-01\n",
      "  2.47509187e-01 2.44340858e-01 1.63824527e-01 7.15961640e-01]\n",
      " [2.50000000e-01 2.50000000e-01 2.50000000e-01 2.70000000e-01\n",
      "  4.00000000e-01 5.60000000e-01 3.00000000e-01 4.60000000e-01]\n",
      " [2.50000000e-01 2.50000000e-01 1.00000000e-04 5.00000000e-01\n",
      "  5.00000000e-01 7.50000000e-01 5.10000000e-01 9.99000000e-01]\n",
      " [1.66667000e-01 1.00000000e-03 1.66667000e-01 3.33333000e-01\n",
      "  3.33300000e-01 4.44000000e-01 4.44000000e-01 6.66667000e-01]\n",
      " [1.66667000e-01 3.33333000e-01 1.66667000e-01 3.33333000e-01\n",
      "  5.00000000e-01 6.66667000e-01 5.00000000e-01 6.66667000e-01]\n",
      " [4.67711000e-01 7.34222000e-01 3.45500000e-01 6.77719000e-01\n",
      "  3.20001000e-01 2.00001000e-01 1.00000000e-01 7.43311000e-01]\n",
      " [6.77719000e-01 7.43311000e-01 4.67711000e-01 2.00001000e-01\n",
      "  6.77719000e-01 7.34222000e-01 2.69250000e-01 3.20001000e-01]]\n",
      "[7.3987211  7.00522736 8.45948162 8.28400781 8.60611679 8.54174792\n",
      " 7.32743458 7.29987205 7.95787474 5.59219339 7.85454099 6.79198578\n",
      " 8.97655402 7.3790829  9.598482   8.15998319 7.13162397 6.76796253\n",
      " 7.43374407 9.01307515 7.31089382 5.84106731 9.14163949 8.81755844\n",
      " 6.45194313 8.83074505 9.34427428 6.88784639 8.04221254 7.69236805\n",
      " 7.92375877 8.42175924 8.2780624  7.11345716 6.40258841 8.47293632\n",
      " 7.97768459 7.46087219 7.43659353 9.18300525 9.78184    9.45597705\n",
      " 9.69970873 9.6666333  8.74320108 8.55604998]\n"
     ]
    }
   ],
   "source": [
    "arr1 = np.array([[0.677719, 0.743311, 0.467711, 0.200001, 0.677719, 0.734222, 0.26925,  0.320001]])\n",
    "\n",
    "#[0.166667 0.333333 0.166667 0.333333 0.5      0.666667 0.5      0.666667]\n",
    "#[0.467711 0.734222 0.3455   0.677719 0.320001 0.200001 0.1      0.743311]\n",
    "#[0.677719 0.743311 0.467711 0.200001 0.677719 0.734222 0.26925  0.320001]\n",
    "#[0.430379 0.379746 0.35443  0.417721]\n",
    "#[1.00000e-06 1.00000e-06 1.11119e-01 1.00000e-06 2.22222e-01 9.99999e-01]\n",
    "#0.34195141040382500\n",
    "#[1.00000e-06 7.00110e-02 6.00000e-02 9.99999e-01 1.00000e-06]\n",
    "#0.166667 0.001    0.166667 0.333333 0.3333   0.444    0.444    0.666667\n",
    "arr2= np.array([8.5560499770284])\n",
    "\n",
    "\n",
    "#9.6666332999991\n",
    "#8.7432010784394\n",
    "#8.5560499770284\n",
    "#-1.6157559040037100\n",
    "#0.5777078964311150\n",
    "#[0.648    0.999999 0.999999 0.999999]\n",
    "#5106.860978590750\n",
    "#\"[2.50000e-01 2.51000e-01 1.00000e-04 5.00000e-01 5.00000e-01 7.50000e-01\n",
    "# 5.10000e-01 9.99999e-01]\"\n",
    "   # 9.4559770499999\n",
    "    #9.6997087327771\n",
    "\n",
    "filename1 = 'initial_data/function_8/initial_inputs.npy'\n",
    "filename2 = 'initial_data/function_8/initial_outputs.npy'\n",
    "\n",
    "with NpyAppendArray(filename1) as npaa:\n",
    "    npaa.append(arr1)\n",
    "    #npaa.append(arr2)\n",
    "    #npaa.append(arr2)\n",
    "    \n",
    "data1 = np.load(filename1, mmap_mode=\"r\")\n",
    "with NpyAppendArray(filename2) as npaa1:\n",
    "    npaa1.append(arr2)\n",
    "    #npaa.append(arr2)\n",
    "    #npaa.append(arr2)\n",
    "    \n",
    "data2 = np.load(filename2, mmap_mode=\"r\")\n",
    "\n",
    "print(data1)\n",
    "print(data2)"
   ]
  },
  {
   "cell_type": "code",
   "execution_count": 268,
   "metadata": {},
   "outputs": [
    {
     "data": {
      "text/html": [
       "<style>#sk-container-id-16 {color: black;background-color: white;}#sk-container-id-16 pre{padding: 0;}#sk-container-id-16 div.sk-toggleable {background-color: white;}#sk-container-id-16 label.sk-toggleable__label {cursor: pointer;display: block;width: 100%;margin-bottom: 0;padding: 0.3em;box-sizing: border-box;text-align: center;}#sk-container-id-16 label.sk-toggleable__label-arrow:before {content: \"▸\";float: left;margin-right: 0.25em;color: #696969;}#sk-container-id-16 label.sk-toggleable__label-arrow:hover:before {color: black;}#sk-container-id-16 div.sk-estimator:hover label.sk-toggleable__label-arrow:before {color: black;}#sk-container-id-16 div.sk-toggleable__content {max-height: 0;max-width: 0;overflow: hidden;text-align: left;background-color: #f0f8ff;}#sk-container-id-16 div.sk-toggleable__content pre {margin: 0.2em;color: black;border-radius: 0.25em;background-color: #f0f8ff;}#sk-container-id-16 input.sk-toggleable__control:checked~div.sk-toggleable__content {max-height: 200px;max-width: 100%;overflow: auto;}#sk-container-id-16 input.sk-toggleable__control:checked~label.sk-toggleable__label-arrow:before {content: \"▾\";}#sk-container-id-16 div.sk-estimator input.sk-toggleable__control:checked~label.sk-toggleable__label {background-color: #d4ebff;}#sk-container-id-16 div.sk-label input.sk-toggleable__control:checked~label.sk-toggleable__label {background-color: #d4ebff;}#sk-container-id-16 input.sk-hidden--visually {border: 0;clip: rect(1px 1px 1px 1px);clip: rect(1px, 1px, 1px, 1px);height: 1px;margin: -1px;overflow: hidden;padding: 0;position: absolute;width: 1px;}#sk-container-id-16 div.sk-estimator {font-family: monospace;background-color: #f0f8ff;border: 1px dotted black;border-radius: 0.25em;box-sizing: border-box;margin-bottom: 0.5em;}#sk-container-id-16 div.sk-estimator:hover {background-color: #d4ebff;}#sk-container-id-16 div.sk-parallel-item::after {content: \"\";width: 100%;border-bottom: 1px solid gray;flex-grow: 1;}#sk-container-id-16 div.sk-label:hover label.sk-toggleable__label {background-color: #d4ebff;}#sk-container-id-16 div.sk-serial::before {content: \"\";position: absolute;border-left: 1px solid gray;box-sizing: border-box;top: 0;bottom: 0;left: 50%;z-index: 0;}#sk-container-id-16 div.sk-serial {display: flex;flex-direction: column;align-items: center;background-color: white;padding-right: 0.2em;padding-left: 0.2em;position: relative;}#sk-container-id-16 div.sk-item {position: relative;z-index: 1;}#sk-container-id-16 div.sk-parallel {display: flex;align-items: stretch;justify-content: center;background-color: white;position: relative;}#sk-container-id-16 div.sk-item::before, #sk-container-id-16 div.sk-parallel-item::before {content: \"\";position: absolute;border-left: 1px solid gray;box-sizing: border-box;top: 0;bottom: 0;left: 50%;z-index: -1;}#sk-container-id-16 div.sk-parallel-item {display: flex;flex-direction: column;z-index: 1;position: relative;background-color: white;}#sk-container-id-16 div.sk-parallel-item:first-child::after {align-self: flex-end;width: 50%;}#sk-container-id-16 div.sk-parallel-item:last-child::after {align-self: flex-start;width: 50%;}#sk-container-id-16 div.sk-parallel-item:only-child::after {width: 0;}#sk-container-id-16 div.sk-dashed-wrapped {border: 1px dashed gray;margin: 0 0.4em 0.5em 0.4em;box-sizing: border-box;padding-bottom: 0.4em;background-color: white;}#sk-container-id-16 div.sk-label label {font-family: monospace;font-weight: bold;display: inline-block;line-height: 1.2em;}#sk-container-id-16 div.sk-label-container {text-align: center;}#sk-container-id-16 div.sk-container {/* jupyter's `normalize.less` sets `[hidden] { display: none; }` but bootstrap.min.css set `[hidden] { display: none !important; }` so we also need the `!important` here to be able to override the default hidden behavior on the sphinx rendered scikit-learn.org. See: https://github.com/scikit-learn/scikit-learn/issues/21755 */display: inline-block !important;position: relative;}#sk-container-id-16 div.sk-text-repr-fallback {display: none;}</style><div id=\"sk-container-id-16\" class=\"sk-top-container\"><div class=\"sk-text-repr-fallback\"><pre>GaussianProcessRegressor()</pre><b>In a Jupyter environment, please rerun this cell to show the HTML representation or trust the notebook. <br />On GitHub, the HTML representation is unable to render, please try loading this page with nbviewer.org.</b></div><div class=\"sk-container\" hidden><div class=\"sk-item\"><div class=\"sk-estimator sk-toggleable\"><input class=\"sk-toggleable__control sk-hidden--visually\" id=\"sk-estimator-id-16\" type=\"checkbox\" checked><label for=\"sk-estimator-id-16\" class=\"sk-toggleable__label sk-toggleable__label-arrow\">GaussianProcessRegressor</label><div class=\"sk-toggleable__content\"><pre>GaussianProcessRegressor()</pre></div></div></div></div></div>"
      ],
      "text/plain": [
       "GaussianProcessRegressor()"
      ]
     },
     "execution_count": 268,
     "metadata": {},
     "output_type": "execute_result"
    }
   ],
   "source": [
    "X8 = np.load('initial_data/function_8/initial_inputs.npy')\n",
    "Y8 = np.load('initial_data/function_8/initial_outputs.npy')\n",
    "gpr8 = GaussianProcessRegressor()\n",
    "gpr8.fit(X8, Y8)"
   ]
  },
  {
   "cell_type": "code",
   "execution_count": 269,
   "metadata": {
    "scrolled": true
   },
   "outputs": [
    {
     "data": {
      "text/plain": [
       "array([[6.04994453e-01, 2.92215020e-01, 9.08452748e-01, 3.55506242e-01,\n",
       "        2.01668719e-01, 5.75338005e-01, 3.10310951e-01, 7.34281377e-01],\n",
       "       [1.78006959e-01, 5.66222654e-01, 9.94861845e-01, 2.10325006e-01,\n",
       "        3.20152657e-01, 7.07908792e-01, 6.35384489e-01, 1.07131627e-01],\n",
       "       [9.07697668e-03, 8.11626153e-01, 5.20520360e-01, 7.56866752e-02,\n",
       "        2.65111825e-01, 9.16516894e-02, 5.92415145e-01, 3.67320262e-01],\n",
       "       [5.06028164e-01, 6.53730123e-01, 3.63410779e-01, 1.77981049e-01,\n",
       "        9.37283044e-02, 1.97425331e-01, 7.55826900e-01, 2.92472339e-01],\n",
       "       [3.59909264e-01, 2.49075679e-01, 4.95997170e-01, 7.09214981e-01,\n",
       "        1.14987195e-01, 2.89206921e-01, 5.57295151e-01, 5.93881726e-01],\n",
       "       [7.78818344e-01, 3.41949948e-03, 3.37983130e-01, 5.19527778e-01,\n",
       "        8.20906993e-01, 5.37246689e-01, 5.51347098e-01, 6.60032086e-01],\n",
       "       [9.08649322e-01, 6.22496998e-02, 2.38259546e-01, 7.66603545e-01,\n",
       "        1.32335962e-01, 9.90243814e-01, 6.88067822e-01, 7.42495941e-01],\n",
       "       [5.86371444e-01, 8.80735726e-01, 7.45020752e-01, 5.46034849e-01,\n",
       "        9.64887799e-03, 7.48991763e-01, 2.30907070e-01, 9.79156228e-02],\n",
       "       [7.61137326e-01, 8.54672390e-01, 3.82124331e-01, 3.37351983e-01,\n",
       "        6.89708320e-01, 3.09853052e-01, 6.31379683e-01, 4.19560695e-02],\n",
       "       [9.84933202e-01, 6.99506258e-01, 9.98885497e-01, 1.80148456e-01,\n",
       "        5.80143147e-01, 2.31087191e-01, 4.90826936e-01, 3.13682720e-01],\n",
       "       [1.12071314e-01, 4.37735663e-01, 5.96598785e-01, 5.92775633e-01,\n",
       "        2.26981770e-01, 4.10104519e-01, 9.21237577e-01, 6.74752759e-01],\n",
       "       [7.91887508e-01, 5.76191336e-01, 6.94528359e-01, 2.83423782e-01,\n",
       "        1.36755461e-01, 2.79161861e-01, 8.42767264e-01, 6.25327922e-01],\n",
       "       [1.43550296e-01, 9.37414515e-01, 2.32324818e-01, 9.04348540e-03,\n",
       "        4.14578930e-01, 4.09325169e-01, 5.53778522e-01, 2.05840800e-01],\n",
       "       [7.69916548e-01, 4.58759088e-01, 5.59000445e-01, 6.94604441e-01,\n",
       "        5.03199022e-01, 7.28346383e-01, 7.84253534e-01, 6.63131087e-01],\n",
       "       [5.64474111e-02, 6.59555534e-02, 2.29286780e-02, 3.87864724e-02,\n",
       "        4.03935441e-01, 8.01055329e-01, 4.88307007e-01, 8.93084977e-01],\n",
       "       [8.62437445e-01, 4.82733822e-01, 2.81869398e-01, 5.44102227e-01,\n",
       "        8.87490260e-01, 3.82654693e-01, 6.01901993e-01, 4.76461690e-01],\n",
       "       [3.51511904e-01, 5.90064942e-01, 9.09436304e-01, 6.78408354e-01,\n",
       "        2.12825656e-01, 8.84603803e-02, 4.10152995e-01, 1.95724292e-01],\n",
       "       [7.35903638e-01, 3.46118895e-02, 7.28030269e-01, 1.47426522e-01,\n",
       "        2.95743139e-01, 4.45117308e-01, 9.75179686e-01, 3.74339784e-01],\n",
       "       [6.80293974e-01, 2.55104646e-01, 8.62187985e-01, 1.34395821e-01,\n",
       "        3.26329200e-01, 2.87906871e-01, 4.35010484e-01, 3.64200126e-01],\n",
       "       [4.43292532e-02, 1.35814872e-02, 2.58198240e-01, 5.77644163e-01,\n",
       "        5.12799230e-02, 1.58563071e-01, 5.91030124e-01, 7.79529335e-02],\n",
       "       [7.78345480e-01, 7.51145652e-01, 3.14142208e-01, 9.02985775e-01,\n",
       "        3.35381656e-01, 3.86322669e-01, 7.48972486e-01, 9.88755104e-01],\n",
       "       [8.98887111e-01, 5.23641705e-01, 8.76783255e-01, 2.18696449e-01,\n",
       "        9.00260894e-01, 2.82766245e-01, 9.11077910e-01, 4.72398218e-01],\n",
       "       [1.45120286e-01, 1.19327540e-01, 4.20888224e-01, 3.87608607e-01,\n",
       "        1.55422833e-01, 8.75171626e-01, 5.10559672e-01, 7.28610579e-01],\n",
       "       [3.38954419e-01, 5.66932018e-01, 3.76751098e-01, 9.89157290e-02,\n",
       "        6.59451687e-01, 2.45548090e-01, 7.62482784e-01, 7.32153467e-01],\n",
       "       [1.76150018e-01, 2.93961428e-01, 9.75679966e-01, 7.93936306e-01,\n",
       "        9.23400762e-01, 3.08422938e-02, 8.03254524e-01, 5.95897583e-01],\n",
       "       [2.89466302e-02, 2.82790578e-02, 4.81371555e-01, 6.13174600e-01,\n",
       "        6.72660448e-01, 2.21134069e-02, 6.01483302e-01, 5.24885053e-01],\n",
       "       [1.92639868e-01, 6.30677279e-01, 4.16795837e-01, 4.90529289e-01,\n",
       "        7.96086023e-01, 6.54567065e-01, 2.76241193e-01, 2.95517586e-01],\n",
       "       [9.43185017e-01, 2.18850618e-01, 7.21184081e-01, 4.24597072e-01,\n",
       "        9.86902000e-01, 5.35182984e-01, 7.14743177e-01, 9.60093720e-01],\n",
       "       [5.32721401e-01, 8.33692597e-01, 7.13990037e-02, 1.16811483e-01,\n",
       "        7.30693110e-01, 9.37375591e-01, 8.66507981e-01, 1.27901999e-01],\n",
       "       [4.47095841e-01, 8.43952527e-01, 7.29546115e-01, 6.39151378e-01,\n",
       "        4.09287137e-01, 1.32645694e-01, 3.59088762e-02, 4.46838470e-01],\n",
       "       [3.82224965e-01, 5.57135837e-01, 8.53101634e-01, 3.33795692e-01,\n",
       "        2.65721272e-01, 4.80872916e-01, 2.37647062e-01, 7.68631956e-01],\n",
       "       [5.32819530e-01, 8.62308484e-01, 5.38267119e-01, 4.94429349e-02,\n",
       "        7.19701189e-01, 9.06705899e-01, 1.08230943e-01, 5.25347913e-01],\n",
       "       [3.94865187e-01, 3.31801666e-01, 7.40754301e-01, 6.97861725e-01,\n",
       "        7.37404439e-01, 7.83776810e-01, 2.54495461e-01, 8.71145510e-01],\n",
       "       [9.85945390e-01, 8.73053629e-01, 7.03926194e-02, 5.35872927e-02,\n",
       "        7.34152958e-01, 5.20258522e-01, 8.11040045e-01, 1.03360365e-01],\n",
       "       [9.64573386e-01, 9.73979787e-01, 6.63753351e-01, 6.62215992e-01,\n",
       "        6.73121672e-01, 9.05237624e-01, 4.58874624e-01, 5.60917502e-01],\n",
       "       [4.72070709e-01, 1.68202645e-01, 8.64275662e-02, 4.52655513e-01,\n",
       "        4.80619220e-01, 6.22439489e-01, 9.28974462e-01, 1.12536267e-01],\n",
       "       [8.56006953e-01, 6.38893704e-01, 3.26192022e-01, 6.68503115e-01,\n",
       "        2.40298369e-01, 2.10298890e-01, 1.67546362e-01, 9.63589863e-01],\n",
       "       [8.10031736e-01, 6.35046041e-01, 2.69547579e-01, 8.69605338e-01,\n",
       "        6.61921590e-01, 2.52258727e-01, 7.65670033e-01, 8.90548667e-01],\n",
       "       [7.96252524e-01, 7.03653252e-03, 3.55697380e-01, 4.87566053e-01,\n",
       "        7.40519615e-01, 7.06650103e-01, 9.92914495e-01, 3.81734367e-01],\n",
       "       [4.81245331e-01, 1.02460721e-01, 2.19485939e-01, 6.77322369e-01,\n",
       "        2.47509187e-01, 2.44340858e-01, 1.63824527e-01, 7.15961640e-01],\n",
       "       [2.50000000e-01, 2.50000000e-01, 2.50000000e-01, 2.70000000e-01,\n",
       "        4.00000000e-01, 5.60000000e-01, 3.00000000e-01, 4.60000000e-01],\n",
       "       [2.50000000e-01, 2.50000000e-01, 1.00000000e-04, 5.00000000e-01,\n",
       "        5.00000000e-01, 7.50000000e-01, 5.10000000e-01, 9.99000000e-01],\n",
       "       [1.66667000e-01, 1.00000000e-03, 1.66667000e-01, 3.33333000e-01,\n",
       "        3.33300000e-01, 4.44000000e-01, 4.44000000e-01, 6.66667000e-01],\n",
       "       [1.66667000e-01, 3.33333000e-01, 1.66667000e-01, 3.33333000e-01,\n",
       "        5.00000000e-01, 6.66667000e-01, 5.00000000e-01, 6.66667000e-01],\n",
       "       [4.67711000e-01, 7.34222000e-01, 3.45500000e-01, 6.77719000e-01,\n",
       "        3.20001000e-01, 2.00001000e-01, 1.00000000e-01, 7.43311000e-01],\n",
       "       [6.77719000e-01, 7.43311000e-01, 4.67711000e-01, 2.00001000e-01,\n",
       "        6.77719000e-01, 7.34222000e-01, 2.69250000e-01, 3.20001000e-01]])"
      ]
     },
     "execution_count": 269,
     "metadata": {},
     "output_type": "execute_result"
    }
   ],
   "source": [
    "X8"
   ]
  },
  {
   "cell_type": "code",
   "execution_count": 270,
   "metadata": {
    "scrolled": true
   },
   "outputs": [
    {
     "data": {
      "text/plain": [
       "array([7.3987211 , 7.00522736, 8.45948162, 8.28400781, 8.60611679,\n",
       "       8.54174792, 7.32743458, 7.29987205, 7.95787474, 5.59219339,\n",
       "       7.85454099, 6.79198578, 8.97655402, 7.3790829 , 9.598482  ,\n",
       "       8.15998319, 7.13162397, 6.76796253, 7.43374407, 9.01307515,\n",
       "       7.31089382, 5.84106731, 9.14163949, 8.81755844, 6.45194313,\n",
       "       8.83074505, 9.34427428, 6.88784639, 8.04221254, 7.69236805,\n",
       "       7.92375877, 8.42175924, 8.2780624 , 7.11345716, 6.40258841,\n",
       "       8.47293632, 7.97768459, 7.46087219, 7.43659353, 9.18300525,\n",
       "       9.78184   , 9.45597705, 9.69970873, 9.6666333 , 8.74320108,\n",
       "       8.55604998])"
      ]
     },
     "execution_count": 270,
     "metadata": {},
     "output_type": "execute_result"
    }
   ],
   "source": [
    "Y8"
   ]
  },
  {
   "cell_type": "code",
   "execution_count": 271,
   "metadata": {},
   "outputs": [],
   "source": [
    "x27 = np.linspace(0, 1, 7)\n",
    "x28= np.linspace(0, 1, 5)\n",
    "x29 = np.linspace(0, 1, 5)\n",
    "x30 = np.linspace(0, 1, 5)\n",
    "x31 = np.linspace(0, 1, 5)\n",
    "x32 = np.linspace(0, 1, 5)\n",
    "x33 = np.linspace(0, 1, 5)\n",
    "x34 = np.linspace(0, 1, 5)"
   ]
  },
  {
   "cell_type": "code",
   "execution_count": 272,
   "metadata": {
    "scrolled": true
   },
   "outputs": [],
   "source": [
    "import itertools as it\n",
    "dim = 8\n",
    "X_grid8 = np.fromiter(it.chain(*it.product(x27, repeat=dim)), dtype=float).reshape(-1,dim)"
   ]
  },
  {
   "cell_type": "code",
   "execution_count": 273,
   "metadata": {
    "scrolled": true
   },
   "outputs": [
    {
     "name": "stdout",
     "output_type": "stream",
     "text": [
      "[0.33333333 0.         0.16666667 0.16666667 0.33333333 0.83333333\n",
      " 0.33333333 1.        ]\n"
     ]
    }
   ],
   "source": [
    "#X_grid6\\ = np.array(X_grid6)\n",
    "mean7, std7 = gpr8.predict(X_grid8, return_std = True)\n",
    "ucb7 = mean7 + 1.96 * std7\n",
    "idx_max7 = np.argmax(ucb7)\n",
    "next_query8 = X_grid8[idx_max7]\n",
    "print(next_query8)"
   ]
  },
  {
   "cell_type": "code",
   "execution_count": null,
   "metadata": {},
   "outputs": [],
   "source": []
  },
  {
   "cell_type": "code",
   "execution_count": 276,
   "metadata": {},
   "outputs": [
    {
     "data": {
      "text/plain": [
       "array([[10.23590631]])"
      ]
     },
     "execution_count": 276,
     "metadata": {},
     "output_type": "execute_result"
    }
   ],
   "source": [
    "g17=gpr8.sample_y([[0.333333, 0.000001,0.166667, 0.166667, 0.333333, 0.833333,\n",
    " 0.333333, 0.999999   ]], n_samples=1, random_state=0)\n",
    "g17"
   ]
  },
  {
   "cell_type": "code",
   "execution_count": 185,
   "metadata": {},
   "outputs": [
    {
     "data": {
      "text/plain": [
       "array([[10.44999523]])"
      ]
     },
     "execution_count": 185,
     "metadata": {},
     "output_type": "execute_result"
    }
   ],
   "source": [
    "g17=gpr8.sample_y([[0.25, 0.25, 0.0001,   0.5,  0.5,  0.75, 0.5 , .999]], n_samples=1, random_state=0)\n",
    "g17"
   ]
  },
  {
   "cell_type": "code",
   "execution_count": 18,
   "metadata": {},
   "outputs": [
    {
     "data": {
      "text/plain": [
       "array([[10.87976608]])"
      ]
     },
     "execution_count": 18,
     "metadata": {},
     "output_type": "execute_result"
    }
   ],
   "source": [
    "g18=gpr8.sample_y([[0.25,0.25, 0.25, 0.25, 0.5,  0.5,  0.25, 0.5]], n_samples=1, random_state=0)\n",
    "g18"
   ]
  },
  {
   "cell_type": "code",
   "execution_count": null,
   "metadata": {},
   "outputs": [],
   "source": [
    "array([[10.88913171]])--[0.25, 0.25, 0.25, 0.3, 0.5,  0.5,  0.3, 0.5]"
   ]
  },
  {
   "cell_type": "code",
   "execution_count": null,
   "metadata": {},
   "outputs": [],
   "source": [
    "array([[10.89372842]])-->[0.25, 0.25, 0.25, 0.27, 0.5,  0.5,  0.3, 0.5]"
   ]
  },
  {
   "cell_type": "code",
   "execution_count": null,
   "metadata": {},
   "outputs": [],
   "source": [
    "array([[10.89728186]])-->[0.25, 0.25, 0.25, 0.27, 0.4,  0.5,  0.3, 0.5]"
   ]
  },
  {
   "cell_type": "code",
   "execution_count": null,
   "metadata": {},
   "outputs": [],
   "source": [
    "[[10.9011726]])---[0.25, 0.25, 0.25, 0.27, 0.4,  0.6,  0.3, 0.5]"
   ]
  },
  {
   "cell_type": "code",
   "execution_count": null,
   "metadata": {},
   "outputs": [],
   "source": [
    "array([[10.90706086]])-->[0.25, 0.25, 0.25, 0.27, 0.4,  0.55,  0.3, 0.5]"
   ]
  },
  {
   "cell_type": "code",
   "execution_count": null,
   "metadata": {},
   "outputs": [],
   "source": [
    "array([[10.90713448]-- 0.25, 0.25, 0.25, 0.27, 0.4,  0.56,  0.3, 0.5]"
   ]
  },
  {
   "cell_type": "code",
   "execution_count": null,
   "metadata": {},
   "outputs": [],
   "source": [
    "array([[10.91080273]])-[0.25, 0.25, 0.25, 0.27, 0.4,  0.56,  0.3, 0.45]"
   ]
  },
  {
   "cell_type": "code",
   "execution_count": null,
   "metadata": {},
   "outputs": [],
   "source": [
    "array([[10.91115196]])-[0.25, 0.25, 0.25, 0.27, 0.4,  0.56,  0.3, 0.46]"
   ]
  },
  {
   "cell_type": "code",
   "execution_count": null,
   "metadata": {},
   "outputs": [],
   "source": []
  },
  {
   "cell_type": "code",
   "execution_count": null,
   "metadata": {},
   "outputs": [],
   "source": []
  },
  {
   "cell_type": "code",
   "execution_count": null,
   "metadata": {},
   "outputs": [],
   "source": []
  }
 ],
 "metadata": {
  "interpreter": {
   "hash": "d37abda7630e259e5026a5079657683a09f6e3d11473720762ebe7250c494840"
  },
  "kernelspec": {
   "display_name": "Python 3 (ipykernel)",
   "language": "python",
   "name": "python3"
  },
  "language_info": {
   "codemirror_mode": {
    "name": "ipython",
    "version": 3
   },
   "file_extension": ".py",
   "mimetype": "text/x-python",
   "name": "python",
   "nbconvert_exporter": "python",
   "pygments_lexer": "ipython3",
   "version": "3.9.7"
  }
 },
 "nbformat": 4,
 "nbformat_minor": 2
}
